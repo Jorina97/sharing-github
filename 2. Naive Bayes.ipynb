{
 "cells": [
  {
   "cell_type": "markdown",
   "metadata": {},
   "source": [
    "# Define input and output data"
   ]
  },
  {
   "cell_type": "code",
   "execution_count": 2,
   "metadata": {
    "ExecuteTime": {
     "end_time": "2019-11-23T10:36:05.205301Z",
     "start_time": "2019-11-23T10:33:51.626258Z"
    }
   },
   "outputs": [],
   "source": [
    "import numpy\n",
    "import pandas as pd\n",
    "import pickle\n",
    "  \n",
    "with open('y_train_all', 'rb') as a1:\n",
    "    y_train_all = pickle.load(a1)\n",
    "with open('y_train_top1', 'rb') as a2:\n",
    "    y_train_top1 = pickle.load(a2)\n",
    "with open('y_train_top3', 'rb') as a3:\n",
    "    y_train_top3 = pickle.load(a3)\n",
    "with open('y_train_top5', 'rb') as a4:\n",
    "    y_train_top5 = pickle.load(a4)\n",
    "with open('y_train_top10', 'rb') as a5:\n",
    "    y_train_top10 = pickle.load(a5)\n",
    "\n",
    "with open('y_test_all', 'rb') as b1:\n",
    "    y_test_all = pickle.load(b1)\n",
    "with open('y_test_top1', 'rb') as b2:\n",
    "    y_test_top1 = pickle.load(b2)\n",
    "with open('y_test_top3', 'rb') as b3:\n",
    "    y_test_top3 = pickle.load(b3)\n",
    "with open('y_test_top5', 'rb') as b4:\n",
    "    y_test_top5 = pickle.load(b4)\n",
    "with open('y_test_top10', 'rb') as b5:\n",
    "    y_test_top10 = pickle.load(b5)\n",
    "    \n",
    "with open('X_train', 'rb') as c1:\n",
    "    X_train = pickle.load(c1)\n",
    "with open('X_test', 'rb') as c2:\n",
    "    X_test = pickle.load(c2)"
   ]
  },
  {
   "cell_type": "markdown",
   "metadata": {},
   "source": [
    "# Naïve Bayes (NB)"
   ]
  },
  {
   "cell_type": "markdown",
   "metadata": {},
   "source": [
    "## Multinomial"
   ]
  },
  {
   "cell_type": "code",
   "execution_count": 4,
   "metadata": {
    "ExecuteTime": {
     "end_time": "2019-11-23T10:38:20.169194Z",
     "start_time": "2019-11-23T10:37:06.870334Z"
    }
   },
   "outputs": [
    {
     "name": "stdout",
     "output_type": "stream",
     "text": [
      "accuracy naïve Bayes all categories = 0.19011090688572965\n",
      "accuracy Naïve Bayes top 1 = 0.5282768796028858\n",
      "accuracy Naïve Bayes top 3 = 0.4486914988059067\n",
      "accuracy Naïve Bayes top 5 = 0.39622016329694787\n",
      "accuracy Naïve Bayes top 10 = 0.2300786476111882\n"
     ]
    }
   ],
   "source": [
    "from sklearn.naive_bayes import MultinomialNB\n",
    "mnb = MultinomialNB()\n",
    "\n",
    "# All categories\n",
    "y_pred_NBall = mnb.fit(X_train, y_train_all).predict(X_test)\n",
    "print(\"accuracy naïve Bayes all categories = {}\".format(mnb.score(X_test, y_test_all)))\n",
    "\n",
    "# Top 1\n",
    "y_pred_NBtop1 = mnb.fit(X_train, y_train_top1).predict(X_test)\n",
    "print(\"accuracy Naïve Bayes top 1 = {}\".format(mnb.score(X_test, y_test_top1)))\n",
    "\n",
    "# Top 3\n",
    "y_pred_NBtop3 = mnb.fit(X_train, y_train_top3).predict(X_test)\n",
    "print(\"accuracy Naïve Bayes top 3 = {}\".format(mnb.score(X_test, y_test_top3)))\n",
    "\n",
    "# Top 5\n",
    "y_pred_NBtop5 = mnb.fit(X_train, y_train_top5).predict(X_test)\n",
    "print(\"accuracy Naïve Bayes top 5 = {}\".format(mnb.score(X_test, y_test_top5)))\n",
    "\n",
    "# Top 10\n",
    "y_pred_NBtop10 = mnb.fit(X_train, y_train_top10).predict(X_test)\n",
    "print(\"accuracy Naïve Bayes top 10 = {}\".format(mnb.score(X_test, y_test_top10)))"
   ]
  },
  {
   "cell_type": "markdown",
   "metadata": {},
   "source": [
    "## Complement, norm = False (default)"
   ]
  },
  {
   "cell_type": "code",
   "execution_count": 5,
   "metadata": {
    "ExecuteTime": {
     "end_time": "2019-11-23T10:40:01.885865Z",
     "start_time": "2019-11-23T10:38:57.118862Z"
    }
   },
   "outputs": [
    {
     "name": "stdout",
     "output_type": "stream",
     "text": [
      "accuracy naïve Bayes all categories = 0.427966790452255\n",
      "accuracy Naïve Bayes top 1 = 0.5111907173312328\n",
      "accuracy Naïve Bayes top 3 = 0.47568675994348375\n",
      "accuracy Naïve Bayes top 5 = 0.4485414556685047\n",
      "accuracy Naïve Bayes top 10 = 0.4307863510759343\n"
     ]
    }
   ],
   "source": [
    "from sklearn.naive_bayes import ComplementNB\n",
    "clf = ComplementNB()\n",
    "\n",
    "# All categories\n",
    "y_pred_NBall = clf.fit(X_train, y_train_all).predict(X_test)\n",
    "print(\"accuracy naïve Bayes all categories = {}\".format(clf.score(X_test, y_test_all)))\n",
    "\n",
    "# Top 1\n",
    "y_pred_NBtop1 = clf.fit(X_train, y_train_top1).predict(X_test)\n",
    "print(\"accuracy Naïve Bayes top 1 = {}\".format(clf.score(X_test, y_test_top1)))\n",
    "\n",
    "# Top 3\n",
    "y_pred_NBtop3 = clf.fit(X_train, y_train_top3).predict(X_test)\n",
    "print(\"accuracy Naïve Bayes top 3 = {}\".format(clf.score(X_test, y_test_top3)))\n",
    "\n",
    "# Top 5\n",
    "y_pred_NBtop5 = clf.fit(X_train, y_train_top5).predict(X_test)\n",
    "print(\"accuracy Naïve Bayes top 5 = {}\".format(clf.score(X_test, y_test_top5)))\n",
    "\n",
    "# Top 10\n",
    "y_pred_NBtop10 = clf.fit(X_train, y_train_top10).predict(X_test)\n",
    "print(\"accuracy Naïve Bayes top 10 = {}\".format(clf.score(X_test, y_test_top10)))"
   ]
  },
  {
   "cell_type": "markdown",
   "metadata": {},
   "source": [
    "## Complement, norm = True"
   ]
  },
  {
   "cell_type": "code",
   "execution_count": 6,
   "metadata": {
    "ExecuteTime": {
     "end_time": "2019-11-23T10:41:33.624238Z",
     "start_time": "2019-11-23T10:40:31.023367Z"
    }
   },
   "outputs": [
    {
     "name": "stdout",
     "output_type": "stream",
     "text": [
      "accuracy naïve Bayes all categories = 0.39701414156570014\n",
      "accuracy Naïve Bayes top 1 = 0.4591632594370882\n",
      "accuracy Naïve Bayes top 3 = 0.4166635407679708\n",
      "accuracy Naïve Bayes top 5 = 0.39403828600722707\n",
      "accuracy Naïve Bayes top 10 = 0.3968515948335146\n"
     ]
    }
   ],
   "source": [
    "from sklearn.naive_bayes import ComplementNB\n",
    "clf = ComplementNB(norm = True)\n",
    "\n",
    "# All categories\n",
    "y_pred_NBall = clf.fit(X_train, y_train_all).predict(X_test)\n",
    "print(\"accuracy naïve Bayes all categories = {}\".format(clf.score(X_test, y_test_all)))\n",
    "\n",
    "# Top 1\n",
    "y_pred_NBtop1 = clf.fit(X_train, y_train_top1).predict(X_test)\n",
    "print(\"accuracy Naïve Bayes top 1 = {}\".format(clf.score(X_test, y_test_top1)))\n",
    "\n",
    "# Top 3\n",
    "y_pred_NBtop3 = clf.fit(X_train, y_train_top3).predict(X_test)\n",
    "print(\"accuracy Naïve Bayes top 3 = {}\".format(clf.score(X_test, y_test_top3)))\n",
    "\n",
    "# Top 5\n",
    "y_pred_NBtop5 = clf.fit(X_train, y_train_top5).predict(X_test)\n",
    "print(\"accuracy Naïve Bayes top 5 = {}\".format(clf.score(X_test, y_test_top5)))\n",
    "\n",
    "# Top 10\n",
    "y_pred_NBtop10 = clf.fit(X_train, y_train_top10).predict(X_test)\n",
    "print(\"accuracy Naïve Bayes top 10 = {}\".format(clf.score(X_test, y_test_top10)))"
   ]
  },
  {
   "cell_type": "markdown",
   "metadata": {},
   "source": [
    "## Top 1 using bernoulli and gaussian"
   ]
  },
  {
   "cell_type": "code",
   "execution_count": 2,
   "metadata": {
    "ExecuteTime": {
     "end_time": "2019-11-19T16:31:19.700077Z",
     "start_time": "2019-11-19T16:30:55.497738Z"
    }
   },
   "outputs": [
    {
     "name": "stdout",
     "output_type": "stream",
     "text": [
      "accuracy Naïve Bayes top 1 = 0.6638471060429874\n"
     ]
    }
   ],
   "source": [
    "from sklearn.naive_bayes import BernoulliNB\n",
    "clf = BernoulliNB()\n",
    "\n",
    "# Top 1\n",
    "y_pred_NBtop1 = clf.fit(X_train, y_train_top1).predict(X_test)\n",
    "print(\"accuracy Naïve Bayes top 1 = {}\".format(clf.score(X_test, y_test_top1)))"
   ]
  },
  {
   "cell_type": "code",
   "execution_count": 3,
   "metadata": {
    "ExecuteTime": {
     "end_time": "2019-11-19T16:54:26.839320Z",
     "start_time": "2019-11-19T16:53:31.577831Z"
    }
   },
   "outputs": [
    {
     "name": "stdout",
     "output_type": "stream",
     "text": [
      "accuracy Naïve Bayes top 1 = 0.5869625017192442\n"
     ]
    }
   ],
   "source": [
    "from sklearn.naive_bayes import GaussianNB\n",
    "clf = GaussianNB()\n",
    "\n",
    "# Top 1\n",
    "y_pred_NBtop1 = clf.fit(X_train, y_train_top1).predict(X_test)\n",
    "print(\"accuracy Naïve Bayes top 1 = {}\".format(clf.score(X_test, y_test_top1)))"
   ]
  }
 ],
 "metadata": {
  "kernelspec": {
   "display_name": "Python 3",
   "language": "python",
   "name": "python3"
  },
  "language_info": {
   "codemirror_mode": {
    "name": "ipython",
    "version": 3
   },
   "file_extension": ".py",
   "mimetype": "text/x-python",
   "name": "python",
   "nbconvert_exporter": "python",
   "pygments_lexer": "ipython3",
   "version": "3.6.5"
  },
  "varInspector": {
   "cols": {
    "lenName": 16,
    "lenType": 16,
    "lenVar": 40
   },
   "kernels_config": {
    "python": {
     "delete_cmd_postfix": "",
     "delete_cmd_prefix": "del ",
     "library": "var_list.py",
     "varRefreshCmd": "print(var_dic_list())"
    },
    "r": {
     "delete_cmd_postfix": ") ",
     "delete_cmd_prefix": "rm(",
     "library": "var_list.r",
     "varRefreshCmd": "cat(var_dic_list()) "
    }
   },
   "types_to_exclude": [
    "module",
    "function",
    "builtin_function_or_method",
    "instance",
    "_Feature"
   ],
   "window_display": false
  }
 },
 "nbformat": 4,
 "nbformat_minor": 2
}
