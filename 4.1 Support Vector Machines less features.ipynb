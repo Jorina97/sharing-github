{
 "cells": [
  {
   "cell_type": "markdown",
   "metadata": {},
   "source": [
    "# Define input and output data"
   ]
  },
  {
   "cell_type": "code",
   "execution_count": 1,
   "metadata": {
    "ExecuteTime": {
     "end_time": "2019-11-30T14:41:58.425601Z",
     "start_time": "2019-11-30T14:41:48.050187Z"
    }
   },
   "outputs": [],
   "source": [
    "import numpy\n",
    "import pandas as pd\n",
    "import pickle\n",
    "  \n",
    "with open('y_train_all', 'rb') as a1:\n",
    "    y_train_all = pickle.load(a1)\n",
    "with open('y_train_top1', 'rb') as a2:\n",
    "    y_train_top1 = pickle.load(a2)\n",
    "with open('y_train_top3', 'rb') as a3:\n",
    "    y_train_top3 = pickle.load(a3)\n",
    "with open('y_train_top5', 'rb') as a4:\n",
    "    y_train_top5 = pickle.load(a4)\n",
    "with open('y_train_top10', 'rb') as a5:\n",
    "    y_train_top10 = pickle.load(a5)\n",
    "\n",
    "with open('y_test_all', 'rb') as b1:\n",
    "    y_test_all = pickle.load(b1)\n",
    "with open('y_test_top1', 'rb') as b2:\n",
    "    y_test_top1 = pickle.load(b2)\n",
    "with open('y_test_top3', 'rb') as b3:\n",
    "    y_test_top3 = pickle.load(b3)\n",
    "with open('y_test_top5', 'rb') as b4:\n",
    "    y_test_top5 = pickle.load(b4)\n",
    "with open('y_test_top10', 'rb') as b5:\n",
    "    y_test_top10 = pickle.load(b5)\n",
    "    \n",
    "with open('X_train', 'rb') as c1:\n",
    "    X_train = pickle.load(c1)\n",
    "with open('X_test', 'rb') as c2:\n",
    "    X_test = pickle.load(c2)"
   ]
  },
  {
   "cell_type": "markdown",
   "metadata": {},
   "source": [
    "## SVM needs additional processing: normalizing + less data"
   ]
  },
  {
   "cell_type": "code",
   "execution_count": 2,
   "metadata": {
    "ExecuteTime": {
     "end_time": "2019-11-30T14:42:15.384504Z",
     "start_time": "2019-11-30T14:41:58.454985Z"
    }
   },
   "outputs": [],
   "source": [
    "from sklearn.preprocessing import MinMaxScaler\n",
    "scaling = MinMaxScaler(feature_range=(-1,1)).fit(X_train)\n",
    "\n",
    "X_train = scaling.transform(X_train[:10000])\n",
    "X_test = scaling.transform(X_test[:3000])\n",
    "\n",
    "y_train_all = y_train_all[:10000]\n",
    "y_test_all = y_test_all[:3000]\n",
    "y_train_top1 = y_train_top1[:10000]\n",
    "y_test_top1 = y_test_top1[:3000]\n",
    "y_train_top3 = y_train_top3[:10000]\n",
    "y_test_top3 = y_test_top3[:3000]\n",
    "y_train_top5 = y_train_top5[:10000]\n",
    "y_test_top5 = y_test_top5[:3000]\n",
    "y_train_top10 = y_train_top10[:10000]\n",
    "y_test_top10 = y_test_top10[:3000]"
   ]
  },
  {
   "cell_type": "code",
   "execution_count": 10,
   "metadata": {
    "ExecuteTime": {
     "end_time": "2019-11-30T15:36:56.466911Z",
     "start_time": "2019-11-30T15:36:56.432199Z"
    }
   },
   "outputs": [],
   "source": [
    "import pickle\n",
    "with open('y_pred_SVMall', 'wb') as a1:\n",
    "    pickle.dump(y_pred_SVMall, a1)\n",
    "with open('y_pred_SVMtop1', 'wb') as a2:\n",
    "    pickle.dump(y_pred_SVMtop1, a2)\n",
    "with open('y_pred_SVMtop3', 'wb') as a3:\n",
    "    pickle.dump(y_pred_SVMtop3, a3)\n",
    "with open('y_pred_SVMtop5', 'wb') as a4:\n",
    "    pickle.dump(y_pred_SVMtop5, a4)\n",
    "with open('y_pred_SVMtop10', 'wb') as a5:\n",
    "    pickle.dump(y_pred_SVMtop10, a5)   \n",
    "\n",
    "with open('y_test_all_SVM', 'wb') as b1:\n",
    "    pickle.dump(y_test_all, b1)\n",
    "with open('y_test_top1_SVM', 'wb') as b2:\n",
    "    pickle.dump(y_test_top1, b2)\n",
    "with open('y_test_top3_SVM', 'wb') as b3:\n",
    "    pickle.dump(y_test_top3, b3)\n",
    "with open('y_test_top5_SVM', 'wb') as b4:\n",
    "    pickle.dump(y_test_top5, b4)\n",
    "with open('y_test_top10_SVM', 'wb') as b5:\n",
    "    pickle.dump(y_test_top10, b5)"
   ]
  },
  {
   "cell_type": "markdown",
   "metadata": {},
   "source": [
    "## All input data combinations"
   ]
  },
  {
   "cell_type": "code",
   "execution_count": 8,
   "metadata": {
    "ExecuteTime": {
     "end_time": "2019-11-30T14:44:46.091710Z",
     "start_time": "2019-11-30T14:44:44.862549Z"
    }
   },
   "outputs": [],
   "source": [
    "X_train1 = X_train[:,:3]\n",
    "X_test1 = X_test[:,:3]\n",
    "\n",
    "X_train2 = np.delete(X_train,2,axis=1)\n",
    "X_test2 = np.delete(X_test,2,axis=1)\n",
    "\n",
    "X_train3 = np.delete(X_train,1,axis=1)\n",
    "X_test3 = np.delete(X_test,1,axis=1)\n",
    "\n",
    "X_train4 = np.delete(X_train,0,axis=1)\n",
    "X_test4 = np.delete(X_test,0,axis=1)\n",
    "\n",
    "X_train5 = X_train[:,(0,1)]\n",
    "X_test5 = X_test[:,(0,1)]\n",
    "\n",
    "X_train6 = X_train[:,(0,2)]\n",
    "X_test6 = X_test[:,(0,2)]\n",
    "\n",
    "X_train7 = np.delete(X_train,(1,2),axis=1)\n",
    "X_test7 = np.delete(X_test,(1,2),axis=1)\n",
    "\n",
    "X_train8 = X_train[:,(1,2)]\n",
    "X_test8 = X_test[:,(1,2)]\n",
    "\n",
    "X_train9 = np.delete(X_train,(0,2),axis=1)\n",
    "X_test9 = np.delete(X_test,(0,2),axis=1)\n",
    "\n",
    "X_train10 = np.delete(X_train,(0,1),axis=1)\n",
    "X_test10 = np.delete(X_test,(0,1),axis=1)\n",
    "\n",
    "X_train11 = X_train[:,0]\n",
    "X_test11 = X_test[:,0]\n",
    "X_train11 = X_train11.reshape(-1,1)\n",
    "X_test11 = X_test11.reshape(-1,1)\n",
    "\n",
    "X_train12 = X_train[:,1]\n",
    "X_test12 = X_test[:,1]\n",
    "X_train12 = X_train12.reshape(-1,1)\n",
    "X_test12 = X_test12.reshape(-1,1)\n",
    "\n",
    "X_train13 = X_train[:,2]\n",
    "X_test13 = X_test[:,2]\n",
    "X_train13 = X_train13.reshape(-1,1)\n",
    "X_test13 = X_test13.reshape(-1,1)\n",
    "\n",
    "X_train14 = X_train[:,3:]\n",
    "X_test14 = X_test[:,3:]"
   ]
  },
  {
   "cell_type": "markdown",
   "metadata": {},
   "source": [
    "# Support Vector Machines for every combination of features"
   ]
  },
  {
   "cell_type": "code",
   "execution_count": 65,
   "metadata": {
    "ExecuteTime": {
     "end_time": "2019-11-24T14:38:11.040601Z",
     "start_time": "2019-11-24T14:37:48.030345Z"
    }
   },
   "outputs": [
    {
     "name": "stdout",
     "output_type": "stream",
     "text": [
      "accuracy Support Vector Machines all categories = 0.4063333333333333\n",
      "accuracy Support Vector Machines top 1 = 0.622\n",
      "accuracy Support Vector Machines top 3 = 0.4083333333333333\n",
      "accuracy Support Vector Machines top 5 = 0.4063333333333333\n",
      "accuracy Support Vector Machines top 10 = 0.4063333333333333\n"
     ]
    }
   ],
   "source": [
    "from sklearn import svm\n",
    "clf = svm.SVC(gamma = 'scale', decision_function_shape = 'ovo')\n",
    "\n",
    "# All categories\n",
    "y_pred_SVMall = clf.fit(X_train1, y_train_all).predict(X_test1)\n",
    "print(\"accuracy Support Vector Machines all categories = {}\".format(clf.score(X_test1, y_test_all)))\n",
    "\n",
    "# Top 1\n",
    "y_pred_SVMtop1 = clf.fit(X_train1, y_train_top1).predict(X_test1)\n",
    "print(\"accuracy Support Vector Machines top 1 = {}\".format(clf.score(X_test1, y_test_top1)))\n",
    "\n",
    "# Top 3\n",
    "y_pred_SVMtop3 = clf.fit(X_train1, y_train_top3).predict(X_test1)\n",
    "print(\"accuracy Support Vector Machines top 3 = {}\".format(clf.score(X_test1, y_test_top3)))\n",
    "\n",
    "# Top 5\n",
    "y_pred_SVMtop5 = clf.fit(X_train1, y_train_top5).predict(X_test1)\n",
    "print(\"accuracy Support Vector Machines top 5 = {}\".format(clf.score(X_test1, y_test_top5)))\n",
    "\n",
    "# Top 10\n",
    "y_pred_SVMtop10 = clf.fit(X_train1, y_train_top10).predict(X_test1)\n",
    "print(\"accuracy Support Vector Machines top 10 = {}\".format(clf.score(X_test1, y_test_top10)))"
   ]
  },
  {
   "cell_type": "code",
   "execution_count": 66,
   "metadata": {
    "ExecuteTime": {
     "end_time": "2019-11-24T20:01:13.592598Z",
     "start_time": "2019-11-24T19:18:33.985846Z"
    }
   },
   "outputs": [
    {
     "name": "stdout",
     "output_type": "stream",
     "text": [
      "accuracy Support Vector Machines all categories = 0.503\n",
      "accuracy Support Vector Machines top 1 = 0.6736666666666666\n",
      "accuracy Support Vector Machines top 3 = 0.569\n",
      "accuracy Support Vector Machines top 5 = 0.544\n",
      "accuracy Support Vector Machines top 10 = 0.5073333333333333\n"
     ]
    }
   ],
   "source": [
    "from sklearn import svm\n",
    "clf = svm.SVC(gamma = 'scale', decision_function_shape = 'ovo')\n",
    "\n",
    "# All categories\n",
    "y_pred_SVMall = clf.fit(X_train2, y_train_all).predict(X_test2)\n",
    "print(\"accuracy Support Vector Machines all categories = {}\".format(clf.score(X_test2, y_test_all)))\n",
    "\n",
    "# Top 1\n",
    "y_pred_SVMtop1 = clf.fit(X_train2, y_train_top1).predict(X_test2)\n",
    "print(\"accuracy Support Vector Machines top 1 = {}\".format(clf.score(X_test2, y_test_top1)))\n",
    "\n",
    "# Top 3\n",
    "y_pred_SVMtop3 = clf.fit(X_train2, y_train_top3).predict(X_test2)\n",
    "print(\"accuracy Support Vector Machines top 3 = {}\".format(clf.score(X_test2, y_test_top3)))\n",
    "\n",
    "# Top 5\n",
    "y_pred_SVMtop5 = clf.fit(X_train2, y_train_top5).predict(X_test2)\n",
    "print(\"accuracy Support Vector Machines top 5 = {}\".format(clf.score(X_test2, y_test_top5)))\n",
    "\n",
    "# Top 10\n",
    "y_pred_SVMtop10 = clf.fit(X_train2, y_train_top10).predict(X_test2)\n",
    "print(\"accuracy Support Vector Machines top 10 = {}\".format(clf.score(X_test2, y_test_top10)))"
   ]
  },
  {
   "cell_type": "code",
   "execution_count": 67,
   "metadata": {
    "ExecuteTime": {
     "end_time": "2019-11-24T20:01:13.592598Z",
     "start_time": "2019-11-24T19:18:33.985846Z"
    }
   },
   "outputs": [
    {
     "name": "stdout",
     "output_type": "stream",
     "text": [
      "accuracy Support Vector Machines all categories = 0.485\n",
      "accuracy Support Vector Machines top 1 = 0.6623333333333333\n",
      "accuracy Support Vector Machines top 3 = 0.551\n",
      "accuracy Support Vector Machines top 5 = 0.5256666666666666\n",
      "accuracy Support Vector Machines top 10 = 0.491\n"
     ]
    }
   ],
   "source": [
    "from sklearn import svm\n",
    "clf = svm.SVC(gamma = 'scale', decision_function_shape = 'ovo')\n",
    "\n",
    "# All categories\n",
    "y_pred_SVMall = clf.fit(X_train3, y_train_all).predict(X_test3)\n",
    "print(\"accuracy Support Vector Machines all categories = {}\".format(clf.score(X_test3, y_test_all)))\n",
    "\n",
    "# Top 1\n",
    "y_pred_SVMtop1 = clf.fit(X_train3, y_train_top1).predict(X_test3)\n",
    "print(\"accuracy Support Vector Machines top 1 = {}\".format(clf.score(X_test3, y_test_top1)))\n",
    "\n",
    "# Top 3\n",
    "y_pred_SVMtop3 = clf.fit(X_train3, y_train_top3).predict(X_test3)\n",
    "print(\"accuracy Support Vector Machines top 3 = {}\".format(clf.score(X_test3, y_test_top3)))\n",
    "\n",
    "# Top 5\n",
    "y_pred_SVMtop5 = clf.fit(X_train3, y_train_top5).predict(X_test3)\n",
    "print(\"accuracy Support Vector Machines top 5 = {}\".format(clf.score(X_test3, y_test_top5)))\n",
    "\n",
    "# Top 10\n",
    "y_pred_SVMtop10 = clf.fit(X_train3, y_train_top10).predict(X_test3)\n",
    "print(\"accuracy Support Vector Machines top 10 = {}\".format(clf.score(X_test3, y_test_top10)))"
   ]
  },
  {
   "cell_type": "code",
   "execution_count": 68,
   "metadata": {
    "ExecuteTime": {
     "end_time": "2019-11-24T20:01:13.592598Z",
     "start_time": "2019-11-24T19:18:33.985846Z"
    }
   },
   "outputs": [
    {
     "name": "stdout",
     "output_type": "stream",
     "text": [
      "accuracy Support Vector Machines all categories = 0.498\n",
      "accuracy Support Vector Machines top 1 = 0.6706666666666666\n",
      "accuracy Support Vector Machines top 3 = 0.5646666666666667\n",
      "accuracy Support Vector Machines top 5 = 0.5386666666666666\n",
      "accuracy Support Vector Machines top 10 = 0.504\n"
     ]
    }
   ],
   "source": [
    "from sklearn import svm\n",
    "clf = svm.SVC(gamma = 'scale', decision_function_shape = 'ovo')\n",
    "\n",
    "# All categories\n",
    "y_pred_SVMall = clf.fit(X_train4, y_train_all).predict(X_test4)\n",
    "print(\"accuracy Support Vector Machines all categories = {}\".format(clf.score(X_test4, y_test_all)))\n",
    "\n",
    "# Top 1\n",
    "y_pred_SVMtop1 = clf.fit(X_train4, y_train_top1).predict(X_test4)\n",
    "print(\"accuracy Support Vector Machines top 1 = {}\".format(clf.score(X_test4, y_test_top1)))\n",
    "\n",
    "# Top 3\n",
    "y_pred_SVMtop3 = clf.fit(X_train4, y_train_top3).predict(X_test4)\n",
    "print(\"accuracy Support Vector Machines top 3 = {}\".format(clf.score(X_test4, y_test_top3)))\n",
    "\n",
    "# Top 5\n",
    "y_pred_SVMtop5 = clf.fit(X_train4, y_train_top5).predict(X_test4)\n",
    "print(\"accuracy Support Vector Machines top 5 = {}\".format(clf.score(X_test4, y_test_top5)))\n",
    "\n",
    "# Top 10\n",
    "y_pred_SVMtop10 = clf.fit(X_train4, y_train_top10).predict(X_test4)\n",
    "print(\"accuracy Support Vector Machines top 10 = {}\".format(clf.score(X_test4, y_test_top10)))"
   ]
  },
  {
   "cell_type": "code",
   "execution_count": 69,
   "metadata": {
    "ExecuteTime": {
     "end_time": "2019-11-24T20:01:13.592598Z",
     "start_time": "2019-11-24T19:18:33.985846Z"
    }
   },
   "outputs": [
    {
     "name": "stdout",
     "output_type": "stream",
     "text": [
      "accuracy Support Vector Machines all categories = 0.4063333333333333\n",
      "accuracy Support Vector Machines top 1 = 0.622\n",
      "accuracy Support Vector Machines top 3 = 0.4093333333333333\n",
      "accuracy Support Vector Machines top 5 = 0.4063333333333333\n",
      "accuracy Support Vector Machines top 10 = 0.4063333333333333\n"
     ]
    }
   ],
   "source": [
    "from sklearn import svm\n",
    "clf = svm.SVC(gamma = 'scale', decision_function_shape = 'ovo')\n",
    "\n",
    "# All categories\n",
    "y_pred_SVMall = clf.fit(X_train5, y_train_all).predict(X_test5)\n",
    "print(\"accuracy Support Vector Machines all categories = {}\".format(clf.score(X_test5, y_test_all)))\n",
    "\n",
    "# Top 1\n",
    "y_pred_SVMtop1 = clf.fit(X_train5, y_train_top1).predict(X_test5)\n",
    "print(\"accuracy Support Vector Machines top 1 = {}\".format(clf.score(X_test5, y_test_top1)))\n",
    "\n",
    "# Top 3\n",
    "y_pred_SVMtop3 = clf.fit(X_train5, y_train_top3).predict(X_test5)\n",
    "print(\"accuracy Support Vector Machines top 3 = {}\".format(clf.score(X_test5, y_test_top3)))\n",
    "\n",
    "# Top 5\n",
    "y_pred_SVMtop5 = clf.fit(X_train5, y_train_top5).predict(X_test5)\n",
    "print(\"accuracy Support Vector Machines top 5 = {}\".format(clf.score(X_test5, y_test_top5)))\n",
    "\n",
    "# Top 10\n",
    "y_pred_SVMtop10 = clf.fit(X_train5, y_train_top10).predict(X_test5)\n",
    "print(\"accuracy Support Vector Machines top 10 = {}\".format(clf.score(X_test5, y_test_top10)))"
   ]
  },
  {
   "cell_type": "code",
   "execution_count": 70,
   "metadata": {
    "ExecuteTime": {
     "end_time": "2019-11-24T20:01:13.592598Z",
     "start_time": "2019-11-24T19:18:33.985846Z"
    }
   },
   "outputs": [
    {
     "name": "stdout",
     "output_type": "stream",
     "text": [
      "accuracy Support Vector Machines all categories = 0.4063333333333333\n",
      "accuracy Support Vector Machines top 1 = 0.5936666666666667\n",
      "accuracy Support Vector Machines top 3 = 0.4063333333333333\n",
      "accuracy Support Vector Machines top 5 = 0.4063333333333333\n",
      "accuracy Support Vector Machines top 10 = 0.4063333333333333\n"
     ]
    }
   ],
   "source": [
    "from sklearn import svm\n",
    "clf = svm.SVC(gamma = 'scale', decision_function_shape = 'ovo')\n",
    "\n",
    "# All categories\n",
    "y_pred_SVMall = clf.fit(X_train6, y_train_all).predict(X_test6)\n",
    "print(\"accuracy Support Vector Machines all categories = {}\".format(clf.score(X_test6, y_test_all)))\n",
    "\n",
    "# Top 1\n",
    "y_pred_SVMtop1 = clf.fit(X_train6, y_train_top1).predict(X_test6)\n",
    "print(\"accuracy Support Vector Machines top 1 = {}\".format(clf.score(X_test6, y_test_top1)))\n",
    "\n",
    "# Top 3\n",
    "y_pred_SVMtop3 = clf.fit(X_train6, y_train_top3).predict(X_test6)\n",
    "print(\"accuracy Support Vector Machines top 3 = {}\".format(clf.score(X_test6, y_test_top3)))\n",
    "\n",
    "# Top 5\n",
    "y_pred_SVMtop5 = clf.fit(X_train6, y_train_top5).predict(X_test6)\n",
    "print(\"accuracy Support Vector Machines top 5 = {}\".format(clf.score(X_test6, y_test_top5)))\n",
    "\n",
    "# Top 10\n",
    "y_pred_SVMtop10 = clf.fit(X_train6, y_train_top10).predict(X_test6)\n",
    "print(\"accuracy Support Vector Machines top 10 = {}\".format(clf.score(X_test6, y_test_top10)))"
   ]
  },
  {
   "cell_type": "code",
   "execution_count": 71,
   "metadata": {
    "ExecuteTime": {
     "end_time": "2019-11-24T20:01:13.592598Z",
     "start_time": "2019-11-24T19:18:33.985846Z"
    }
   },
   "outputs": [
    {
     "name": "stdout",
     "output_type": "stream",
     "text": [
      "accuracy Support Vector Machines all categories = 0.485\n",
      "accuracy Support Vector Machines top 1 = 0.6623333333333333\n",
      "accuracy Support Vector Machines top 3 = 0.551\n",
      "accuracy Support Vector Machines top 5 = 0.5256666666666666\n",
      "accuracy Support Vector Machines top 10 = 0.491\n"
     ]
    }
   ],
   "source": [
    "from sklearn import svm\n",
    "clf = svm.SVC(gamma = 'scale', decision_function_shape = 'ovo')\n",
    "\n",
    "# All categories\n",
    "y_pred_SVMall = clf.fit(X_train7, y_train_all).predict(X_test7)\n",
    "print(\"accuracy Support Vector Machines all categories = {}\".format(clf.score(X_test7, y_test_all)))\n",
    "\n",
    "# Top 1\n",
    "y_pred_SVMtop1 = clf.fit(X_train7, y_train_top1).predict(X_test7)\n",
    "print(\"accuracy Support Vector Machines top 1 = {}\".format(clf.score(X_test7, y_test_top1)))\n",
    "\n",
    "# Top 3\n",
    "y_pred_SVMtop3 = clf.fit(X_train7, y_train_top3).predict(X_test7)\n",
    "print(\"accuracy Support Vector Machines top 3 = {}\".format(clf.score(X_test7, y_test_top3)))\n",
    "\n",
    "# Top 5\n",
    "y_pred_SVMtop5 = clf.fit(X_train7, y_train_top5).predict(X_test7)\n",
    "print(\"accuracy Support Vector Machines top 5 = {}\".format(clf.score(X_test7, y_test_top5)))\n",
    "\n",
    "# Top 10\n",
    "y_pred_SVMtop10 = clf.fit(X_train7, y_train_top10).predict(X_test7)\n",
    "print(\"accuracy Support Vector Machines top 10 = {}\".format(clf.score(X_test7, y_test_top10)))"
   ]
  },
  {
   "cell_type": "code",
   "execution_count": 72,
   "metadata": {
    "ExecuteTime": {
     "end_time": "2019-11-24T20:01:13.592598Z",
     "start_time": "2019-11-24T19:18:33.985846Z"
    }
   },
   "outputs": [
    {
     "name": "stdout",
     "output_type": "stream",
     "text": [
      "accuracy Support Vector Machines all categories = 0.4063333333333333\n",
      "accuracy Support Vector Machines top 1 = 0.622\n",
      "accuracy Support Vector Machines top 3 = 0.4063333333333333\n",
      "accuracy Support Vector Machines top 5 = 0.4063333333333333\n",
      "accuracy Support Vector Machines top 10 = 0.4063333333333333\n"
     ]
    }
   ],
   "source": [
    "from sklearn import svm\n",
    "clf = svm.SVC(gamma = 'scale', decision_function_shape = 'ovo')\n",
    "\n",
    "# All categories\n",
    "y_pred_SVMall = clf.fit(X_train8, y_train_all).predict(X_test8)\n",
    "print(\"accuracy Support Vector Machines all categories = {}\".format(clf.score(X_test8, y_test_all)))\n",
    "\n",
    "# Top 1\n",
    "y_pred_SVMtop1 = clf.fit(X_train8, y_train_top1).predict(X_test8)\n",
    "print(\"accuracy Support Vector Machines top 1 = {}\".format(clf.score(X_test8, y_test_top1)))\n",
    "\n",
    "# Top 3\n",
    "y_pred_SVMtop3 = clf.fit(X_train8, y_train_top3).predict(X_test8)\n",
    "print(\"accuracy Support Vector Machines top 3 = {}\".format(clf.score(X_test8, y_test_top3)))\n",
    "\n",
    "# Top 5\n",
    "y_pred_SVMtop5 = clf.fit(X_train8, y_train_top5).predict(X_test8)\n",
    "print(\"accuracy Support Vector Machines top 5 = {}\".format(clf.score(X_test8, y_test_top5)))\n",
    "\n",
    "# Top 10\n",
    "y_pred_SVMtop10 = clf.fit(X_train8, y_train_top10).predict(X_test8)\n",
    "print(\"accuracy Support Vector Machines top 10 = {}\".format(clf.score(X_test8, y_test_top10)))"
   ]
  },
  {
   "cell_type": "code",
   "execution_count": 73,
   "metadata": {
    "ExecuteTime": {
     "end_time": "2019-11-24T20:01:13.592598Z",
     "start_time": "2019-11-24T19:18:33.985846Z"
    }
   },
   "outputs": [
    {
     "name": "stdout",
     "output_type": "stream",
     "text": [
      "accuracy Support Vector Machines all categories = 0.498\n",
      "accuracy Support Vector Machines top 1 = 0.6706666666666666\n",
      "accuracy Support Vector Machines top 3 = 0.5646666666666667\n",
      "accuracy Support Vector Machines top 5 = 0.5386666666666666\n",
      "accuracy Support Vector Machines top 10 = 0.504\n"
     ]
    }
   ],
   "source": [
    "from sklearn import svm\n",
    "clf = svm.SVC(gamma = 'scale', decision_function_shape = 'ovo')\n",
    "\n",
    "# All categories\n",
    "y_pred_SVMall = clf.fit(X_train9, y_train_all).predict(X_test9)\n",
    "print(\"accuracy Support Vector Machines all categories = {}\".format(clf.score(X_test9, y_test_all)))\n",
    "\n",
    "# Top 1\n",
    "y_pred_SVMtop1 = clf.fit(X_train9, y_train_top1).predict(X_test9)\n",
    "print(\"accuracy Support Vector Machines top 1 = {}\".format(clf.score(X_test9, y_test_top1)))\n",
    "\n",
    "# Top 3\n",
    "y_pred_SVMtop3 = clf.fit(X_train9, y_train_top3).predict(X_test9)\n",
    "print(\"accuracy Support Vector Machines top 3 = {}\".format(clf.score(X_test9, y_test_top3)))\n",
    "\n",
    "# Top 5\n",
    "y_pred_SVMtop5 = clf.fit(X_train9, y_train_top5).predict(X_test9)\n",
    "print(\"accuracy Support Vector Machines top 5 = {}\".format(clf.score(X_test9, y_test_top5)))\n",
    "\n",
    "# Top 10\n",
    "y_pred_SVMtop10 = clf.fit(X_train9, y_train_top10).predict(X_test9)\n",
    "print(\"accuracy Support Vector Machines top 10 = {}\".format(clf.score(X_test9, y_test_top10)))"
   ]
  },
  {
   "cell_type": "code",
   "execution_count": 74,
   "metadata": {
    "ExecuteTime": {
     "end_time": "2019-11-24T20:01:13.592598Z",
     "start_time": "2019-11-24T19:18:33.985846Z"
    }
   },
   "outputs": [
    {
     "name": "stdout",
     "output_type": "stream",
     "text": [
      "accuracy Support Vector Machines all categories = 0.48433333333333334\n",
      "accuracy Support Vector Machines top 1 = 0.6596666666666666\n",
      "accuracy Support Vector Machines top 3 = 0.5486666666666666\n",
      "accuracy Support Vector Machines top 5 = 0.524\n",
      "accuracy Support Vector Machines top 10 = 0.49033333333333334\n"
     ]
    }
   ],
   "source": [
    "from sklearn import svm\n",
    "clf = svm.SVC(gamma = 'scale', decision_function_shape = 'ovo')\n",
    "\n",
    "# All categories\n",
    "y_pred_SVMall = clf.fit(X_train10, y_train_all).predict(X_test10)\n",
    "print(\"accuracy Support Vector Machines all categories = {}\".format(clf.score(X_test10, y_test_all)))\n",
    "\n",
    "# Top 1\n",
    "y_pred_SVMtop1 = clf.fit(X_train10, y_train_top1).predict(X_test10)\n",
    "print(\"accuracy Support Vector Machines top 1 = {}\".format(clf.score(X_test10, y_test_top1)))\n",
    "\n",
    "# Top 3\n",
    "y_pred_SVMtop3 = clf.fit(X_train10, y_train_top3).predict(X_test10)\n",
    "print(\"accuracy Support Vector Machines top 3 = {}\".format(clf.score(X_test10, y_test_top3)))\n",
    "\n",
    "# Top 5\n",
    "y_pred_SVMtop5 = clf.fit(X_train10, y_train_top5).predict(X_test10)\n",
    "print(\"accuracy Support Vector Machines top 5 = {}\".format(clf.score(X_test10, y_test_top5)))\n",
    "\n",
    "# Top 10\n",
    "y_pred_SVMtop10 = clf.fit(X_train10, y_train_top10).predict(X_test10)\n",
    "print(\"accuracy Support Vector Machines top 10 = {}\".format(clf.score(X_test10, y_test_top10)))"
   ]
  },
  {
   "cell_type": "code",
   "execution_count": 80,
   "metadata": {
    "ExecuteTime": {
     "end_time": "2019-11-24T20:01:13.592598Z",
     "start_time": "2019-11-24T19:18:33.985846Z"
    }
   },
   "outputs": [
    {
     "name": "stdout",
     "output_type": "stream",
     "text": [
      "accuracy Support Vector Machines all categories = 0.4063333333333333\n",
      "accuracy Support Vector Machines top 1 = 0.5936666666666667\n",
      "accuracy Support Vector Machines top 3 = 0.409\n",
      "accuracy Support Vector Machines top 5 = 0.4063333333333333\n",
      "accuracy Support Vector Machines top 10 = 0.4063333333333333\n"
     ]
    }
   ],
   "source": [
    "from sklearn import svm\n",
    "clf = svm.SVC(gamma = 'scale', decision_function_shape = 'ovo')\n",
    "\n",
    "# All categories\n",
    "y_pred_SVMall = clf.fit(X_train11, y_train_all).predict(X_test11)\n",
    "print(\"accuracy Support Vector Machines all categories = {}\".format(clf.score(X_test11, y_test_all)))\n",
    "\n",
    "# Top 1\n",
    "y_pred_SVMtop1 = clf.fit(X_train11, y_train_top1).predict(X_test11)\n",
    "print(\"accuracy Support Vector Machines top 1 = {}\".format(clf.score(X_test11, y_test_top1)))\n",
    "\n",
    "# Top 3\n",
    "y_pred_SVMtop3 = clf.fit(X_train11, y_train_top3).predict(X_test11)\n",
    "print(\"accuracy Support Vector Machines top 3 = {}\".format(clf.score(X_test11, y_test_top3)))\n",
    "\n",
    "# Top 5\n",
    "y_pred_SVMtop5 = clf.fit(X_train11, y_train_top5).predict(X_test11)\n",
    "print(\"accuracy Support Vector Machines top 5 = {}\".format(clf.score(X_test11, y_test_top5)))\n",
    "\n",
    "# Top 10\n",
    "y_pred_SVMtop10 = clf.fit(X_train11, y_train_top10).predict(X_test11)\n",
    "print(\"accuracy Support Vector Machines top 10 = {}\".format(clf.score(X_test11, y_test_top10)))"
   ]
  },
  {
   "cell_type": "code",
   "execution_count": 83,
   "metadata": {
    "ExecuteTime": {
     "end_time": "2019-11-24T20:01:13.592598Z",
     "start_time": "2019-11-24T19:18:33.985846Z"
    }
   },
   "outputs": [
    {
     "name": "stdout",
     "output_type": "stream",
     "text": [
      "accuracy Support Vector Machines all categories = 0.4063333333333333\n",
      "accuracy Support Vector Machines top 1 = 0.622\n",
      "accuracy Support Vector Machines top 3 = 0.4063333333333333\n",
      "accuracy Support Vector Machines top 5 = 0.4063333333333333\n",
      "accuracy Support Vector Machines top 10 = 0.4063333333333333\n"
     ]
    }
   ],
   "source": [
    "from sklearn import svm\n",
    "clf = svm.SVC(gamma = 'scale', decision_function_shape = 'ovo')\n",
    "\n",
    "# All categories\n",
    "y_pred_SVMall = clf.fit(X_train12, y_train_all).predict(X_test12)\n",
    "print(\"accuracy Support Vector Machines all categories = {}\".format(clf.score(X_test12, y_test_all)))\n",
    "\n",
    "# Top 1\n",
    "y_pred_SVMtop1 = clf.fit(X_train12, y_train_top1).predict(X_test12)\n",
    "print(\"accuracy Support Vector Machines top 1 = {}\".format(clf.score(X_test12, y_test_top1)))\n",
    "\n",
    "# Top 3\n",
    "y_pred_SVMtop3 = clf.fit(X_train12, y_train_top3).predict(X_test12)\n",
    "print(\"accuracy Support Vector Machines top 3 = {}\".format(clf.score(X_test12, y_test_top3)))\n",
    "\n",
    "# Top 5\n",
    "y_pred_SVMtop5 = clf.fit(X_train12, y_train_top5).predict(X_test12)\n",
    "print(\"accuracy Support Vector Machines top 5 = {}\".format(clf.score(X_test12, y_test_top5)))\n",
    "\n",
    "# Top 10\n",
    "y_pred_SVMtop10 = clf.fit(X_train12, y_train_top10).predict(X_test12)\n",
    "print(\"accuracy Support Vector Machines top 10 = {}\".format(clf.score(X_test12, y_test_top10)))"
   ]
  },
  {
   "cell_type": "code",
   "execution_count": 84,
   "metadata": {
    "ExecuteTime": {
     "end_time": "2019-11-24T20:01:13.592598Z",
     "start_time": "2019-11-24T19:18:33.985846Z"
    }
   },
   "outputs": [
    {
     "name": "stdout",
     "output_type": "stream",
     "text": [
      "accuracy Support Vector Machines all categories = 0.406\n",
      "accuracy Support Vector Machines top 1 = 0.5936666666666667\n",
      "accuracy Support Vector Machines top 3 = 0.4046666666666667\n",
      "accuracy Support Vector Machines top 5 = 0.405\n",
      "accuracy Support Vector Machines top 10 = 0.406\n"
     ]
    }
   ],
   "source": [
    "from sklearn import svm\n",
    "clf = svm.SVC(gamma = 'scale', decision_function_shape = 'ovo')\n",
    "\n",
    "# All categories\n",
    "y_pred_SVMall = clf.fit(X_train13, y_train_all).predict(X_test13)\n",
    "print(\"accuracy Support Vector Machines all categories = {}\".format(clf.score(X_test13, y_test_all)))\n",
    "\n",
    "# Top 1\n",
    "y_pred_SVMtop1 = clf.fit(X_train13, y_train_top1).predict(X_test13)\n",
    "print(\"accuracy Support Vector Machines top 1 = {}\".format(clf.score(X_test13, y_test_top1)))\n",
    "\n",
    "# Top 3\n",
    "y_pred_SVMtop3 = clf.fit(X_train13, y_train_top3).predict(X_test13)\n",
    "print(\"accuracy Support Vector Machines top 3 = {}\".format(clf.score(X_test13, y_test_top3)))\n",
    "\n",
    "# Top 5\n",
    "y_pred_SVMtop5 = clf.fit(X_train13, y_train_top5).predict(X_test13)\n",
    "print(\"accuracy Support Vector Machines top 5 = {}\".format(clf.score(X_test13, y_test_top5)))\n",
    "\n",
    "# Top 10\n",
    "y_pred_SVMtop10 = clf.fit(X_train13, y_train_top10).predict(X_test13)\n",
    "print(\"accuracy Support Vector Machines top 10 = {}\".format(clf.score(X_test13, y_test_top10)))"
   ]
  },
  {
   "cell_type": "code",
   "execution_count": 86,
   "metadata": {
    "ExecuteTime": {
     "end_time": "2019-11-24T20:01:13.592598Z",
     "start_time": "2019-11-24T19:18:33.985846Z"
    }
   },
   "outputs": [
    {
     "name": "stdout",
     "output_type": "stream",
     "text": [
      "accuracy Support Vector Machines all categories = 0.48433333333333334\n",
      "accuracy Support Vector Machines top 1 = 0.6596666666666666\n",
      "accuracy Support Vector Machines top 3 = 0.5486666666666666\n",
      "accuracy Support Vector Machines top 5 = 0.524\n",
      "accuracy Support Vector Machines top 10 = 0.49033333333333334\n"
     ]
    }
   ],
   "source": [
    "from sklearn import svm\n",
    "clf = svm.SVC(gamma = 'scale', decision_function_shape = 'ovo')\n",
    "\n",
    "# All categories\n",
    "y_pred_SVMall = clf.fit(X_train14, y_train_all).predict(X_test14)\n",
    "print(\"accuracy Support Vector Machines all categories = {}\".format(clf.score(X_test14, y_test_all)))\n",
    "\n",
    "# Top 1\n",
    "y_pred_SVMtop1 = clf.fit(X_train14, y_train_top1).predict(X_test14)\n",
    "print(\"accuracy Support Vector Machines top 1 = {}\".format(clf.score(X_test14, y_test_top1)))\n",
    "\n",
    "# Top 3\n",
    "y_pred_SVMtop3 = clf.fit(X_train14, y_train_top3).predict(X_test14)\n",
    "print(\"accuracy Support Vector Machines top 3 = {}\".format(clf.score(X_test14, y_test_top3)))\n",
    "\n",
    "# Top 5\n",
    "y_pred_SVMtop5 = clf.fit(X_train14, y_train_top5).predict(X_test14)\n",
    "print(\"accuracy Support Vector Machines top 5 = {}\".format(clf.score(X_test14, y_test_top5)))\n",
    "\n",
    "# Top 10\n",
    "y_pred_SVMtop10 = clf.fit(X_train14, y_train_top10).predict(X_test14)\n",
    "print(\"accuracy Support Vector Machines top 10 = {}\".format(clf.score(X_test14, y_test_top10)))"
   ]
  }
 ],
 "metadata": {
  "kernelspec": {
   "display_name": "Python 3",
   "language": "python",
   "name": "python3"
  },
  "language_info": {
   "codemirror_mode": {
    "name": "ipython",
    "version": 3
   },
   "file_extension": ".py",
   "mimetype": "text/x-python",
   "name": "python",
   "nbconvert_exporter": "python",
   "pygments_lexer": "ipython3",
   "version": "3.6.5"
  },
  "varInspector": {
   "cols": {
    "lenName": 16,
    "lenType": 16,
    "lenVar": 40
   },
   "kernels_config": {
    "python": {
     "delete_cmd_postfix": "",
     "delete_cmd_prefix": "del ",
     "library": "var_list.py",
     "varRefreshCmd": "print(var_dic_list())"
    },
    "r": {
     "delete_cmd_postfix": ") ",
     "delete_cmd_prefix": "rm(",
     "library": "var_list.r",
     "varRefreshCmd": "cat(var_dic_list()) "
    }
   },
   "types_to_exclude": [
    "module",
    "function",
    "builtin_function_or_method",
    "instance",
    "_Feature"
   ],
   "window_display": false
  }
 },
 "nbformat": 4,
 "nbformat_minor": 2
}
