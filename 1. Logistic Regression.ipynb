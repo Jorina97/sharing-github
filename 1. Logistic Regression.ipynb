{
 "cells": [
  {
   "cell_type": "markdown",
   "metadata": {},
   "source": [
    "# Define input and output data"
   ]
  },
  {
   "cell_type": "code",
   "execution_count": 2,
   "metadata": {
    "ExecuteTime": {
     "end_time": "2019-11-23T10:45:24.690631Z",
     "start_time": "2019-11-23T10:45:15.682446Z"
    },
    "scrolled": true
   },
   "outputs": [],
   "source": [
    "import numpy\n",
    "import pandas as pd\n",
    "import pickle\n",
    "  \n",
    "with open('y_train_all', 'rb') as a1:\n",
    "    y_train_all = pickle.load(a1)\n",
    "with open('y_train_top1', 'rb') as a2:\n",
    "    y_train_top1 = pickle.load(a2)\n",
    "with open('y_train_top3', 'rb') as a3:\n",
    "    y_train_top3 = pickle.load(a3)\n",
    "with open('y_train_top5', 'rb') as a4:\n",
    "    y_train_top5 = pickle.load(a4)\n",
    "with open('y_train_top10', 'rb') as a5:\n",
    "    y_train_top10 = pickle.load(a5)\n",
    "\n",
    "with open('y_test_all', 'rb') as b1:\n",
    "    y_test_all = pickle.load(b1)\n",
    "with open('y_test_top1', 'rb') as b2:\n",
    "    y_test_top1 = pickle.load(b2)\n",
    "with open('y_test_top3', 'rb') as b3:\n",
    "    y_test_top3 = pickle.load(b3)\n",
    "with open('y_test_top5', 'rb') as b4:\n",
    "    y_test_top5 = pickle.load(b4)\n",
    "with open('y_test_top10', 'rb') as b5:\n",
    "    y_test_top10 = pickle.load(b5)\n",
    "    \n",
    "with open('X_train', 'rb') as c1:\n",
    "    X_train = pickle.load(c1)\n",
    "with open('X_test', 'rb') as c2:\n",
    "    X_test = pickle.load(c2)"
   ]
  },
  {
   "cell_type": "markdown",
   "metadata": {},
   "source": [
    "# Logistic Regression (LR)"
   ]
  },
  {
   "cell_type": "markdown",
   "metadata": {},
   "source": [
    "## Solver = 'lbfgs, max_iter = 100"
   ]
  },
  {
   "cell_type": "code",
   "execution_count": 3,
   "metadata": {
    "ExecuteTime": {
     "end_time": "2019-11-23T10:57:08.654659Z",
     "start_time": "2019-11-23T10:45:30.981176Z"
    },
    "scrolled": true
   },
   "outputs": [
    {
     "name": "stderr",
     "output_type": "stream",
     "text": [
      "C:\\Users\\jorin\\Anaconda3\\lib\\site-packages\\sklearn\\linear_model\\logistic.py:947: ConvergenceWarning: lbfgs failed to converge. Increase the number of iterations.\n",
      "  \"of iterations.\", ConvergenceWarning)\n"
     ]
    },
    {
     "name": "stdout",
     "output_type": "stream",
     "text": [
      "accuracy logistic regression all categories = 0.4130374982807557\n",
      "accuracy logistic regression top 1= 0.5869625017192442\n",
      "accuracy logistic regression top 3= 0.4130374982807557\n",
      "accuracy logistic regression top 5= 0.41089938357277717\n"
     ]
    },
    {
     "name": "stderr",
     "output_type": "stream",
     "text": [
      "C:\\Users\\jorin\\Anaconda3\\lib\\site-packages\\sklearn\\linear_model\\logistic.py:947: ConvergenceWarning: lbfgs failed to converge. Increase the number of iterations.\n",
      "  \"of iterations.\", ConvergenceWarning)\n"
     ]
    },
    {
     "name": "stdout",
     "output_type": "stream",
     "text": [
      "accuracy logistic regression top 10= 0.4086237293221801\n"
     ]
    }
   ],
   "source": [
    "from sklearn.linear_model import LogisticRegression\n",
    "clf = LogisticRegression(random_state=42, solver='lbfgs', multi_class = 'multinomial', max_iter=100)\n",
    "\n",
    "# All categories\n",
    "y_pred_LRall = clf.fit(X_train, y_train_all).predict(X_test)\n",
    "print(\"accuracy logistic regression all categories = {}\".format(clf.score(X_test, y_test_all)))\n",
    "\n",
    "# Top 1\n",
    "y_pred_LRtop1 = clf.fit(X_train, y_train_top1).predict(X_test)\n",
    "print(\"accuracy logistic regression top 1= {}\".format((y_test_top1 == y_pred_LRtop1).sum() / X_test.shape[0]))\n",
    "\n",
    "# Top 3\n",
    "y_pred_LRtop3 = clf.fit(X_train, y_train_top3).predict(X_test)\n",
    "print(\"accuracy logistic regression top 3= {}\".format((y_test_top3 == y_pred_LRtop3).sum() / X_test.shape[0]))\n",
    "\n",
    "# Top 5\n",
    "y_pred_LRtop5 = clf.fit(X_train, y_train_top5).predict(X_test)\n",
    "print(\"accuracy logistic regression top 5= {}\".format((y_test_top5 == y_pred_LRtop5).sum() / X_test.shape[0]))\n",
    "\n",
    "# Top 10\n",
    "y_pred_LRtop10 = clf.fit(X_train, y_train_top10).predict(X_test)\n",
    "print(\"accuracy logistic regression top 10= {}\".format((y_test_top10 == y_pred_LRtop10).sum() / X_test.shape[0]))"
   ]
  },
  {
   "cell_type": "markdown",
   "metadata": {},
   "source": [
    "## Solver = 'lbfgs', max_iter = 200"
   ]
  },
  {
   "cell_type": "code",
   "execution_count": 10,
   "metadata": {
    "ExecuteTime": {
     "end_time": "2019-11-16T14:41:26.763698Z",
     "start_time": "2019-11-16T14:28:42.140499Z"
    },
    "scrolled": true
   },
   "outputs": [
    {
     "name": "stderr",
     "output_type": "stream",
     "text": [
      "C:\\Users\\jorin\\Anaconda3\\lib\\site-packages\\sklearn\\linear_model\\logistic.py:947: ConvergenceWarning: lbfgs failed to converge. Increase the number of iterations.\n",
      "  \"of iterations.\", ConvergenceWarning)\n"
     ]
    },
    {
     "name": "stdout",
     "output_type": "stream",
     "text": [
      "accuracy logistic regression all categories = 0.4130374982807557\n",
      "accuracy logistic regression top 1= 0.5869625017192442\n",
      "accuracy logistic regression top 3= 0.4130374982807557\n",
      "accuracy logistic regression top 5= 0.41089938357277717\n",
      "accuracy logistic regression top 10= 0.4086549883091389\n"
     ]
    }
   ],
   "source": [
    "from sklearn.linear_model import LogisticRegression\n",
    "clf = LogisticRegression(random_state=42, solver='lbfgs', multi_class = 'multinomial', max_iter=200)\n",
    "\n",
    "# All categories\n",
    "y_pred_LRall = clf.fit(X_train, y_train_all).predict(X_test)\n",
    "print(\"accuracy logistic regression all categories = {}\".format(clf.score(X_test, y_test_all)))\n",
    "\n",
    "# Top 1\n",
    "y_pred_LRtop1 = clf.fit(X_train, y_train_top1).predict(X_test)\n",
    "print(\"accuracy logistic regression top 1= {}\".format((y_test_top1 == y_pred_LRtop1).sum() / X_test.shape[0]))\n",
    "\n",
    "# Top 3\n",
    "y_pred_LRtop3 = clf.fit(X_train, y_train_top3).predict(X_test)\n",
    "print(\"accuracy logistic regression top 3= {}\".format((y_test_top3 == y_pred_LRtop3).sum() / X_test.shape[0]))\n",
    "\n",
    "# Top 5\n",
    "y_pred_LRtop5 = clf.fit(X_train, y_train_top5).predict(X_test)\n",
    "print(\"accuracy logistic regression top 5= {}\".format((y_test_top5 == y_pred_LRtop5).sum() / X_test.shape[0]))\n",
    "\n",
    "# Top 10\n",
    "y_pred_LRtop10 = clf.fit(X_train, y_train_top10).predict(X_test)\n",
    "print(\"accuracy logistic regression top 10= {}\".format((y_test_top10 == y_pred_LRtop10).sum() / X_test.shape[0]))"
   ]
  },
  {
   "cell_type": "markdown",
   "metadata": {},
   "source": [
    "## Solver = 'saga', max_iter = 10"
   ]
  },
  {
   "cell_type": "code",
   "execution_count": 2,
   "metadata": {
    "ExecuteTime": {
     "end_time": "2019-11-16T14:24:07.497931Z",
     "start_time": "2019-11-16T13:59:03.464685Z"
    }
   },
   "outputs": [
    {
     "name": "stderr",
     "output_type": "stream",
     "text": [
      "C:\\Users\\jorin\\Anaconda3\\lib\\site-packages\\sklearn\\linear_model\\sag.py:337: ConvergenceWarning: The max_iter was reached which means the coef_ did not converge\n",
      "  \"the coef_ did not converge\", ConvergenceWarning)\n"
     ]
    },
    {
     "name": "stdout",
     "output_type": "stream",
     "text": [
      "accuracy logistic regression all categories = 0.4130374982807557\n"
     ]
    },
    {
     "name": "stderr",
     "output_type": "stream",
     "text": [
      "C:\\Users\\jorin\\Anaconda3\\lib\\site-packages\\sklearn\\linear_model\\sag.py:337: ConvergenceWarning: The max_iter was reached which means the coef_ did not converge\n",
      "  \"the coef_ did not converge\", ConvergenceWarning)\n"
     ]
    },
    {
     "name": "stdout",
     "output_type": "stream",
     "text": [
      "accuracy logistic regression top 1= 0.5869625017192442\n"
     ]
    },
    {
     "name": "stderr",
     "output_type": "stream",
     "text": [
      "C:\\Users\\jorin\\Anaconda3\\lib\\site-packages\\sklearn\\linear_model\\sag.py:337: ConvergenceWarning: The max_iter was reached which means the coef_ did not converge\n",
      "  \"the coef_ did not converge\", ConvergenceWarning)\n"
     ]
    },
    {
     "name": "stdout",
     "output_type": "stream",
     "text": [
      "accuracy logistic regression top 3= 0.4130374982807557\n"
     ]
    },
    {
     "name": "stderr",
     "output_type": "stream",
     "text": [
      "C:\\Users\\jorin\\Anaconda3\\lib\\site-packages\\sklearn\\linear_model\\sag.py:337: ConvergenceWarning: The max_iter was reached which means the coef_ did not converge\n",
      "  \"the coef_ did not converge\", ConvergenceWarning)\n"
     ]
    },
    {
     "name": "stdout",
     "output_type": "stream",
     "text": [
      "accuracy logistic regression top 5= 0.4130374982807557\n"
     ]
    },
    {
     "name": "stderr",
     "output_type": "stream",
     "text": [
      "C:\\Users\\jorin\\Anaconda3\\lib\\site-packages\\sklearn\\linear_model\\sag.py:337: ConvergenceWarning: The max_iter was reached which means the coef_ did not converge\n",
      "  \"the coef_ did not converge\", ConvergenceWarning)\n"
     ]
    },
    {
     "name": "stdout",
     "output_type": "stream",
     "text": [
      "accuracy logistic regression top 10= 0.4130374982807557\n"
     ]
    }
   ],
   "source": [
    "from sklearn.linear_model import LogisticRegression\n",
    "clf = LogisticRegression(random_state=42, solver='saga', multi_class = 'multinomial', max_iter=10)\n",
    "\n",
    "# All categories\n",
    "y_pred_LRall = clf.fit(X_train, y_train_all).predict(X_test)\n",
    "print(\"accuracy logistic regression all categories = {}\".format(clf.score(X_test, y_test_all)))\n",
    "\n",
    "# Top 1\n",
    "y_pred_LRtop1 = clf.fit(X_train, y_train_top1).predict(X_test)\n",
    "print(\"accuracy logistic regression top 1= {}\".format((y_test_top1 == y_pred_LRtop1).sum() / X_test.shape[0]))\n",
    "\n",
    "# Top 3\n",
    "y_pred_LRtop3 = clf.fit(X_train, y_train_top3).predict(X_test)\n",
    "print(\"accuracy logistic regression top 3= {}\".format((y_test_top3 == y_pred_LRtop3).sum() / X_test.shape[0]))\n",
    "\n",
    "# Top 5\n",
    "y_pred_LRtop5 = clf.fit(X_train, y_train_top5).predict(X_test)\n",
    "print(\"accuracy logistic regression top 5= {}\".format((y_test_top5 == y_pred_LRtop5).sum() / X_test.shape[0]))\n",
    "\n",
    "# Top 10\n",
    "y_pred_LRtop10 = clf.fit(X_train, y_train_top10).predict(X_test)\n",
    "print(\"accuracy logistic regression top 10= {}\".format((y_test_top10 == y_pred_LRtop10).sum() / X_test.shape[0]))"
   ]
  },
  {
   "cell_type": "markdown",
   "metadata": {},
   "source": [
    "## solver = saga, max_iter = 20"
   ]
  },
  {
   "cell_type": "code",
   "execution_count": 2,
   "metadata": {
    "ExecuteTime": {
     "end_time": "2019-11-17T16:39:08.894254Z",
     "start_time": "2019-11-17T15:38:08.597213Z"
    }
   },
   "outputs": [
    {
     "name": "stderr",
     "output_type": "stream",
     "text": [
      "C:\\Users\\jorin\\Anaconda3\\lib\\site-packages\\sklearn\\linear_model\\sag.py:337: ConvergenceWarning: The max_iter was reached which means the coef_ did not converge\n",
      "  \"the coef_ did not converge\", ConvergenceWarning)\n"
     ]
    },
    {
     "name": "stdout",
     "output_type": "stream",
     "text": [
      "accuracy logistic regression all categories = 0.4130374982807557\n"
     ]
    },
    {
     "name": "stderr",
     "output_type": "stream",
     "text": [
      "C:\\Users\\jorin\\Anaconda3\\lib\\site-packages\\sklearn\\linear_model\\sag.py:337: ConvergenceWarning: The max_iter was reached which means the coef_ did not converge\n",
      "  \"the coef_ did not converge\", ConvergenceWarning)\n"
     ]
    },
    {
     "name": "stdout",
     "output_type": "stream",
     "text": [
      "accuracy logistic regression top 1= 0.5869625017192442\n"
     ]
    },
    {
     "name": "stderr",
     "output_type": "stream",
     "text": [
      "C:\\Users\\jorin\\Anaconda3\\lib\\site-packages\\sklearn\\linear_model\\sag.py:337: ConvergenceWarning: The max_iter was reached which means the coef_ did not converge\n",
      "  \"the coef_ did not converge\", ConvergenceWarning)\n"
     ]
    },
    {
     "name": "stdout",
     "output_type": "stream",
     "text": [
      "accuracy logistic regression top 3= 0.4130374982807557\n"
     ]
    },
    {
     "name": "stderr",
     "output_type": "stream",
     "text": [
      "C:\\Users\\jorin\\Anaconda3\\lib\\site-packages\\sklearn\\linear_model\\sag.py:337: ConvergenceWarning: The max_iter was reached which means the coef_ did not converge\n",
      "  \"the coef_ did not converge\", ConvergenceWarning)\n"
     ]
    },
    {
     "name": "stdout",
     "output_type": "stream",
     "text": [
      "accuracy logistic regression top 5= 0.4130374982807557\n"
     ]
    },
    {
     "name": "stderr",
     "output_type": "stream",
     "text": [
      "C:\\Users\\jorin\\Anaconda3\\lib\\site-packages\\sklearn\\linear_model\\sag.py:337: ConvergenceWarning: The max_iter was reached which means the coef_ did not converge\n",
      "  \"the coef_ did not converge\", ConvergenceWarning)\n"
     ]
    },
    {
     "name": "stdout",
     "output_type": "stream",
     "text": [
      "accuracy logistic regression top 10= 0.4130374982807557\n"
     ]
    }
   ],
   "source": [
    "from sklearn.linear_model import LogisticRegression\n",
    "clf = LogisticRegression(random_state=42, solver='saga', multi_class = 'multinomial', max_iter=20)\n",
    "\n",
    "# All categories\n",
    "y_pred_LRall = clf.fit(X_train, y_train_all).predict(X_test)\n",
    "print(\"accuracy logistic regression all categories = {}\".format(clf.score(X_test, y_test_all)))\n",
    "\n",
    "# Top 1\n",
    "y_pred_LRtop1 = clf.fit(X_train, y_train_top1).predict(X_test)\n",
    "print(\"accuracy logistic regression top 1= {}\".format((y_test_top1 == y_pred_LRtop1).sum() / X_test.shape[0]))\n",
    "\n",
    "# Top 3\n",
    "y_pred_LRtop3 = clf.fit(X_train, y_train_top3).predict(X_test)\n",
    "print(\"accuracy logistic regression top 3= {}\".format((y_test_top3 == y_pred_LRtop3).sum() / X_test.shape[0]))\n",
    "\n",
    "# Top 5\n",
    "y_pred_LRtop5 = clf.fit(X_train, y_train_top5).predict(X_test)\n",
    "print(\"accuracy logistic regression top 5= {}\".format((y_test_top5 == y_pred_LRtop5).sum() / X_test.shape[0]))\n",
    "\n",
    "# Top 10\n",
    "y_pred_LRtop10 = clf.fit(X_train, y_train_top10).predict(X_test)\n",
    "print(\"accuracy logistic regression top 10= {}\".format((y_test_top10 == y_pred_LRtop10).sum() / X_test.shape[0]))"
   ]
  },
  {
   "cell_type": "markdown",
   "metadata": {},
   "source": [
    "## solver = saga, max_iter = 10, penalty = l1"
   ]
  },
  {
   "cell_type": "code",
   "execution_count": 2,
   "metadata": {
    "ExecuteTime": {
     "end_time": "2019-11-18T15:38:59.593953Z",
     "start_time": "2019-11-18T11:58:00.282401Z"
    }
   },
   "outputs": [
    {
     "name": "stderr",
     "output_type": "stream",
     "text": [
      "C:\\Users\\jorin\\Anaconda3\\lib\\site-packages\\sklearn\\linear_model\\sag.py:337: ConvergenceWarning: The max_iter was reached which means the coef_ did not converge\n",
      "  \"the coef_ did not converge\", ConvergenceWarning)\n"
     ]
    },
    {
     "name": "stdout",
     "output_type": "stream",
     "text": [
      "accuracy logistic regression all categories = 0.4130374982807557\n"
     ]
    },
    {
     "name": "stderr",
     "output_type": "stream",
     "text": [
      "C:\\Users\\jorin\\Anaconda3\\lib\\site-packages\\sklearn\\linear_model\\sag.py:337: ConvergenceWarning: The max_iter was reached which means the coef_ did not converge\n",
      "  \"the coef_ did not converge\", ConvergenceWarning)\n"
     ]
    },
    {
     "name": "stdout",
     "output_type": "stream",
     "text": [
      "accuracy logistic regression top 1= 0.5869625017192442\n"
     ]
    },
    {
     "name": "stderr",
     "output_type": "stream",
     "text": [
      "C:\\Users\\jorin\\Anaconda3\\lib\\site-packages\\sklearn\\linear_model\\sag.py:337: ConvergenceWarning: The max_iter was reached which means the coef_ did not converge\n",
      "  \"the coef_ did not converge\", ConvergenceWarning)\n"
     ]
    },
    {
     "name": "stdout",
     "output_type": "stream",
     "text": [
      "accuracy logistic regression top 3= 0.4130374982807557\n"
     ]
    },
    {
     "name": "stderr",
     "output_type": "stream",
     "text": [
      "C:\\Users\\jorin\\Anaconda3\\lib\\site-packages\\sklearn\\linear_model\\sag.py:337: ConvergenceWarning: The max_iter was reached which means the coef_ did not converge\n",
      "  \"the coef_ did not converge\", ConvergenceWarning)\n"
     ]
    },
    {
     "name": "stdout",
     "output_type": "stream",
     "text": [
      "accuracy logistic regression top 5= 0.4130374982807557\n"
     ]
    },
    {
     "name": "stderr",
     "output_type": "stream",
     "text": [
      "C:\\Users\\jorin\\Anaconda3\\lib\\site-packages\\sklearn\\linear_model\\sag.py:337: ConvergenceWarning: The max_iter was reached which means the coef_ did not converge\n",
      "  \"the coef_ did not converge\", ConvergenceWarning)\n"
     ]
    },
    {
     "name": "stdout",
     "output_type": "stream",
     "text": [
      "accuracy logistic regression top 10= 0.4130374982807557\n"
     ]
    }
   ],
   "source": [
    "from sklearn.linear_model import LogisticRegression\n",
    "clf = LogisticRegression(random_state=42, penalty = 'l1', solver='saga', multi_class = 'multinomial', max_iter=10)\n",
    "\n",
    "# All categories\n",
    "y_pred_LRall = clf.fit(X_train, y_train_all).predict(X_test)\n",
    "print(\"accuracy logistic regression all categories = {}\".format(clf.score(X_test, y_test_all)))\n",
    "\n",
    "# Top 1\n",
    "y_pred_LRtop1 = clf.fit(X_train, y_train_top1).predict(X_test)\n",
    "print(\"accuracy logistic regression top 1= {}\".format((y_test_top1 == y_pred_LRtop1).sum() / X_test.shape[0]))\n",
    "\n",
    "# Top 3\n",
    "y_pred_LRtop3 = clf.fit(X_train, y_train_top3).predict(X_test)\n",
    "print(\"accuracy logistic regression top 3= {}\".format((y_test_top3 == y_pred_LRtop3).sum() / X_test.shape[0]))\n",
    "\n",
    "# Top 5\n",
    "y_pred_LRtop5 = clf.fit(X_train, y_train_top5).predict(X_test)\n",
    "print(\"accuracy logistic regression top 5= {}\".format((y_test_top5 == y_pred_LRtop5).sum() / X_test.shape[0]))\n",
    "\n",
    "# Top 10\n",
    "y_pred_LRtop10 = clf.fit(X_train, y_train_top10).predict(X_test)\n",
    "print(\"accuracy logistic regression top 10= {}\".format((y_test_top10 == y_pred_LRtop10).sum() / X_test.shape[0]))"
   ]
  },
  {
   "cell_type": "code",
   "execution_count": null,
   "metadata": {},
   "outputs": [],
   "source": []
  }
 ],
 "metadata": {
  "kernelspec": {
   "display_name": "Python 3",
   "language": "python",
   "name": "python3"
  },
  "language_info": {
   "codemirror_mode": {
    "name": "ipython",
    "version": 3
   },
   "file_extension": ".py",
   "mimetype": "text/x-python",
   "name": "python",
   "nbconvert_exporter": "python",
   "pygments_lexer": "ipython3",
   "version": "3.6.5"
  },
  "varInspector": {
   "cols": {
    "lenName": 16,
    "lenType": 16,
    "lenVar": 40
   },
   "kernels_config": {
    "python": {
     "delete_cmd_postfix": "",
     "delete_cmd_prefix": "del ",
     "library": "var_list.py",
     "varRefreshCmd": "print(var_dic_list())"
    },
    "r": {
     "delete_cmd_postfix": ") ",
     "delete_cmd_prefix": "rm(",
     "library": "var_list.r",
     "varRefreshCmd": "cat(var_dic_list()) "
    }
   },
   "types_to_exclude": [
    "module",
    "function",
    "builtin_function_or_method",
    "instance",
    "_Feature"
   ],
   "window_display": false
  }
 },
 "nbformat": 4,
 "nbformat_minor": 2
}
