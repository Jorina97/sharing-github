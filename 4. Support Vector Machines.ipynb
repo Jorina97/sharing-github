{
 "cells": [
  {
   "cell_type": "markdown",
   "metadata": {},
   "source": [
    "# Define input and output data"
   ]
  },
  {
   "cell_type": "code",
   "execution_count": 1,
   "metadata": {
    "ExecuteTime": {
     "end_time": "2019-11-25T16:59:04.094544Z",
     "start_time": "2019-11-25T16:58:53.291058Z"
    }
   },
   "outputs": [],
   "source": [
    "import numpy\n",
    "import pandas as pd\n",
    "import pickle\n",
    "  \n",
    "with open('y_train_all', 'rb') as a1:\n",
    "    y_train_all = pickle.load(a1)\n",
    "with open('y_train_top1', 'rb') as a2:\n",
    "    y_train_top1 = pickle.load(a2)\n",
    "with open('y_train_top3', 'rb') as a3:\n",
    "    y_train_top3 = pickle.load(a3)\n",
    "with open('y_train_top5', 'rb') as a4:\n",
    "    y_train_top5 = pickle.load(a4)\n",
    "with open('y_train_top10', 'rb') as a5:\n",
    "    y_train_top10 = pickle.load(a5)\n",
    "\n",
    "with open('y_test_all', 'rb') as b1:\n",
    "    y_test_all = pickle.load(b1)\n",
    "with open('y_test_top1', 'rb') as b2:\n",
    "    y_test_top1 = pickle.load(b2)\n",
    "with open('y_test_top3', 'rb') as b3:\n",
    "    y_test_top3 = pickle.load(b3)\n",
    "with open('y_test_top5', 'rb') as b4:\n",
    "    y_test_top5 = pickle.load(b4)\n",
    "with open('y_test_top10', 'rb') as b5:\n",
    "    y_test_top10 = pickle.load(b5)\n",
    "    \n",
    "with open('X_train', 'rb') as c1:\n",
    "    X_train = pickle.load(c1)\n",
    "with open('X_test', 'rb') as c2:\n",
    "    X_test = pickle.load(c2)"
   ]
  },
  {
   "cell_type": "markdown",
   "metadata": {},
   "source": [
    "## SVM needs additional processing: normalizing + less data"
   ]
  },
  {
   "cell_type": "code",
   "execution_count": 2,
   "metadata": {
    "ExecuteTime": {
     "end_time": "2019-11-25T16:59:14.698218Z",
     "start_time": "2019-11-25T16:59:04.119503Z"
    }
   },
   "outputs": [],
   "source": [
    "from sklearn.preprocessing import MinMaxScaler\n",
    "scaling = MinMaxScaler(feature_range=(-1,1)).fit(X_train)\n",
    "\n",
    "X_train = scaling.transform(X_train[:10000])\n",
    "X_test = scaling.transform(X_test[:3000])\n",
    "\n",
    "y_train_all = y_train_all[:10000]\n",
    "y_test_all = y_test_all[:3000]\n",
    "y_train_top1 = y_train_top1[:10000]\n",
    "y_test_top1 = y_test_top1[:3000]\n",
    "y_train_top3 = y_train_top3[:10000]\n",
    "y_test_top3 = y_test_top3[:3000]\n",
    "y_train_top5 = y_train_top5[:10000]\n",
    "y_test_top5 = y_test_top5[:3000]\n",
    "y_train_top10 = y_train_top10[:10000]\n",
    "y_test_top10 = y_test_top10[:3000]"
   ]
  },
  {
   "cell_type": "markdown",
   "metadata": {},
   "source": [
    "# Support Vector Machines"
   ]
  },
  {
   "cell_type": "markdown",
   "metadata": {},
   "source": [
    "## gamma = 'scale', decision_function_shape = 'ovo'"
   ]
  },
  {
   "cell_type": "code",
   "execution_count": 5,
   "metadata": {
    "ExecuteTime": {
     "end_time": "2019-11-23T11:20:50.240665Z",
     "start_time": "2019-11-23T11:07:14.503884Z"
    }
   },
   "outputs": [
    {
     "name": "stdout",
     "output_type": "stream",
     "text": [
      "accuracy Support Vector Machines all categories = 0.503\n"
     ]
    }
   ],
   "source": [
    "from sklearn import svm\n",
    "clf = svm.SVC(gamma = 'scale', decision_function_shape = 'ovo')\n",
    "\n",
    "# All categories\n",
    "y_pred_SVMall = clf.fit(X_train, y_train_all).predict(X_test)\n",
    "print(\"accuracy Support Vector Machines all categories = {}\".format(clf.score(X_test, y_test_all)))\n",
    "\n",
    "# Top 1\n",
    "y_pred_SVMtop1 = clf.fit(X_train, y_train_top1).predict(X_test)\n",
    "print(\"accuracy Support Vector Machines top 1 = {}\".format(clf.score(X_test, y_test_top1)))\n",
    "\n",
    "# Top 3\n",
    "y_pred_SVMtop3 = clf.fit(X_train, y_train_top3).predict(X_test)\n",
    "print(\"accuracy Support Vector Machines top 3 = {}\".format(clf.score(X_test, y_test_top3)))\n",
    "\n",
    "# Top 5\n",
    "y_pred_SVMtop5 = clf.fit(X_train, y_train_top5).predict(X_test)\n",
    "print(\"accuracy Support Vector Machines top 5 = {}\".format(clf.score(X_test, y_test_top5)))\n",
    "\n",
    "# Top 10\n",
    "y_pred_SVMtop10 = clf.fit(X_train, y_train_top10).predict(X_test)\n",
    "print(\"accuracy Support Vector Machines top 10 = {}\".format(clf.score(X_test, y_test_top10)))"
   ]
  },
  {
   "cell_type": "markdown",
   "metadata": {
    "ExecuteTime": {
     "end_time": "2019-11-23T11:34:49.425155Z",
     "start_time": "2019-11-23T11:34:49.405809Z"
    }
   },
   "source": [
    "## gamma = 'scale', decision_function_shape = 'ovr'"
   ]
  },
  {
   "cell_type": "code",
   "execution_count": 7,
   "metadata": {
    "ExecuteTime": {
     "end_time": "2019-11-23T12:37:41.693844Z",
     "start_time": "2019-11-23T11:41:06.043818Z"
    }
   },
   "outputs": [
    {
     "name": "stdout",
     "output_type": "stream",
     "text": [
      "accuracy Support Vector Machines all categories = 0.503\n",
      "accuracy Support Vector Machines top 1 = 0.6736666666666666\n",
      "accuracy Support Vector Machines top 3 = 0.569\n",
      "accuracy Support Vector Machines top 5 = 0.544\n",
      "accuracy Support Vector Machines top 10 = 0.5073333333333333\n"
     ]
    }
   ],
   "source": [
    "from sklearn import svm\n",
    "clf = svm.SVC(gamma = 'scale', decision_function_shape = 'ovr')\n",
    "\n",
    "# All categories\n",
    "y_pred_SVMall = clf.fit(X_train, y_train_all).predict(X_test)\n",
    "print(\"accuracy Support Vector Machines all categories = {}\".format(clf.score(X_test, y_test_all)))\n",
    "\n",
    "# Top 1\n",
    "y_pred_SVMtop1 = clf.fit(X_train, y_train_top1).predict(X_test)\n",
    "print(\"accuracy Support Vector Machines top 1 = {}\".format(clf.score(X_test, y_test_top1)))\n",
    "\n",
    "# Top 3\n",
    "y_pred_SVMtop3 = clf.fit(X_train, y_train_top3).predict(X_test)\n",
    "print(\"accuracy Support Vector Machines top 3 = {}\".format(clf.score(X_test, y_test_top3)))\n",
    "\n",
    "# Top 5\n",
    "y_pred_SVMtop5 = clf.fit(X_train, y_train_top5).predict(X_test)\n",
    "print(\"accuracy Support Vector Machines top 5 = {}\".format(clf.score(X_test, y_test_top5)))\n",
    "\n",
    "# Top 10\n",
    "y_pred_SVMtop10 = clf.fit(X_train, y_train_top10).predict(X_test)\n",
    "print(\"accuracy Support Vector Machines top 10 = {}\".format(clf.score(X_test, y_test_top10)))"
   ]
  },
  {
   "cell_type": "markdown",
   "metadata": {},
   "source": [
    "## gamma = 'auto', decision_function_shape = 'ovo'"
   ]
  },
  {
   "cell_type": "code",
   "execution_count": 8,
   "metadata": {
    "ExecuteTime": {
     "end_time": "2019-11-23T13:11:57.536375Z",
     "start_time": "2019-11-23T12:37:42.040811Z"
    }
   },
   "outputs": [
    {
     "name": "stdout",
     "output_type": "stream",
     "text": [
      "accuracy Support Vector Machines all categories = 0.4063333333333333\n",
      "accuracy Support Vector Machines top 1 = 0.6313333333333333\n",
      "accuracy Support Vector Machines top 3 = 0.5186666666666667\n",
      "accuracy Support Vector Machines top 5 = 0.4063333333333333\n",
      "accuracy Support Vector Machines top 10 = 0.4063333333333333\n"
     ]
    }
   ],
   "source": [
    "from sklearn import svm\n",
    "clf = svm.SVC(gamma = 'auto', decision_function_shape = 'ovo')\n",
    "\n",
    "# All categories\n",
    "y_pred_SVMall = clf.fit(X_train, y_train_all).predict(X_test)\n",
    "print(\"accuracy Support Vector Machines all categories = {}\".format(clf.score(X_test, y_test_all)))\n",
    "\n",
    "# Top 1\n",
    "y_pred_SVMtop1 = clf.fit(X_train, y_train_top1).predict(X_test)\n",
    "print(\"accuracy Support Vector Machines top 1 = {}\".format(clf.score(X_test, y_test_top1)))\n",
    "\n",
    "# Top 3\n",
    "y_pred_SVMtop3 = clf.fit(X_train, y_train_top3).predict(X_test)\n",
    "print(\"accuracy Support Vector Machines top 3 = {}\".format(clf.score(X_test, y_test_top3)))\n",
    "\n",
    "# Top 5\n",
    "y_pred_SVMtop5 = clf.fit(X_train, y_train_top5).predict(X_test)\n",
    "print(\"accuracy Support Vector Machines top 5 = {}\".format(clf.score(X_test, y_test_top5)))\n",
    "\n",
    "# Top 10\n",
    "y_pred_SVMtop10 = clf.fit(X_train, y_train_top10).predict(X_test)\n",
    "print(\"accuracy Support Vector Machines top 10 = {}\".format(clf.score(X_test, y_test_top10)))"
   ]
  },
  {
   "cell_type": "markdown",
   "metadata": {},
   "source": [
    "## kernel = 'sigmoid', gamma = 'scale', decision_function_shape = 'ovo'"
   ]
  },
  {
   "cell_type": "code",
   "execution_count": 3,
   "metadata": {
    "ExecuteTime": {
     "end_time": "2019-11-23T14:33:04.941767Z",
     "start_time": "2019-11-23T14:11:04.846041Z"
    }
   },
   "outputs": [
    {
     "name": "stdout",
     "output_type": "stream",
     "text": [
      "accuracy Support Vector Machines all categories = 0.4063333333333333\n",
      "accuracy Support Vector Machines top 1 = 0.5936666666666667\n",
      "accuracy Support Vector Machines top 3 = 0.4063333333333333\n",
      "accuracy Support Vector Machines top 5 = 0.4063333333333333\n",
      "accuracy Support Vector Machines top 10 = 0.4063333333333333\n"
     ]
    }
   ],
   "source": [
    "from sklearn import svm\n",
    "clf = svm.SVC(kernel = 'sigmoid', gamma = 'scale', decision_function_shape = 'ovo')\n",
    "\n",
    "# All categories\n",
    "y_pred_SVMall = clf.fit(X_train, y_train_all).predict(X_test)\n",
    "print(\"accuracy Support Vector Machines all categories = {}\".format(clf.score(X_test, y_test_all)))\n",
    "\n",
    "# Top 1\n",
    "y_pred_SVMtop1 = clf.fit(X_train, y_train_top1).predict(X_test)\n",
    "print(\"accuracy Support Vector Machines top 1 = {}\".format(clf.score(X_test, y_test_top1)))\n",
    "\n",
    "# Top 3\n",
    "y_pred_SVMtop3 = clf.fit(X_train, y_train_top3).predict(X_test)\n",
    "print(\"accuracy Support Vector Machines top 3 = {}\".format(clf.score(X_test, y_test_top3)))\n",
    "\n",
    "# Top 5\n",
    "y_pred_SVMtop5 = clf.fit(X_train, y_train_top5).predict(X_test)\n",
    "print(\"accuracy Support Vector Machines top 5 = {}\".format(clf.score(X_test, y_test_top5)))\n",
    "\n",
    "# Top 10\n",
    "y_pred_SVMtop10 = clf.fit(X_train, y_train_top10).predict(X_test)\n",
    "print(\"accuracy Support Vector Machines top 10 = {}\".format(clf.score(X_test, y_test_top10)))"
   ]
  },
  {
   "cell_type": "markdown",
   "metadata": {},
   "source": [
    "## Linear SVC, multi_class = 'crammer_singer'"
   ]
  },
  {
   "cell_type": "code",
   "execution_count": null,
   "metadata": {
    "ExecuteTime": {
     "start_time": "2019-11-23T18:12:28.798Z"
    }
   },
   "outputs": [],
   "source": [
    "from sklearn import svm\n",
    "clf = svm.LinearSVC(multi_class = 'crammer_singer')\n",
    "\n",
    "# All categories\n",
    "y_pred_SVMall = clf.fit(X_train, y_train_all).predict(X_test)\n",
    "print(\"accuracy Support Vector Machines all categories = {}\".format(clf.score(X_test, y_test_all)))\n",
    "\n",
    "# Top 1\n",
    "y_pred_SVMtop1 = clf.fit(X_train, y_train_top1).predict(X_test)\n",
    "print(\"accuracy Support Vector Machines top 1 = {}\".format(clf.score(X_test, y_test_top1)))\n",
    "\n",
    "# Top 3\n",
    "y_pred_SVMtop3 = clf.fit(X_train, y_train_top3).predict(X_test)\n",
    "print(\"accuracy Support Vector Machines top 3 = {}\".format(clf.score(X_test, y_test_top3)))\n",
    "\n",
    "# Top 5\n",
    "y_pred_SVMtop5 = clf.fit(X_train, y_train_top5).predict(X_test)\n",
    "print(\"accuracy Support Vector Machines top 5 = {}\".format(clf.score(X_test, y_test_top5)))\n",
    "\n",
    "# Top 10\n",
    "y_pred_SVMtop10 = clf.fit(X_train, y_train_top10).predict(X_test)\n",
    "print(\"accuracy Support Vector Machines top 10 = {}\".format(clf.score(X_test, y_test_top10)))"
   ]
  },
  {
   "cell_type": "markdown",
   "metadata": {},
   "source": [
    "# Keep outputs for results\n",
    "Only done for the best model"
   ]
  },
  {
   "cell_type": "code",
   "execution_count": 8,
   "metadata": {
    "ExecuteTime": {
     "end_time": "2019-11-23T09:01:24.204829Z",
     "start_time": "2019-11-23T09:01:24.159250Z"
    }
   },
   "outputs": [],
   "source": [
    "import pickle\n",
    "with open('y_pred_SVMall', 'wb') as a1:\n",
    "    pickle.dump(y_pred_SVMall, a1)\n",
    "with open('y_pred_SVMtop1', 'wb') as a2:\n",
    "    pickle.dump(y_pred_SVMtop1, a2)\n",
    "with open('y_pred_SVMtop3', 'wb') as a3:\n",
    "    pickle.dump(y_pred_SVMtop3, a3)\n",
    "with open('y_pred_SVMtop5', 'wb') as a4:\n",
    "    pickle.dump(y_pred_SVMtop5, a4)\n",
    "with open('y_pred_SVMtop10', 'wb') as a5:\n",
    "    pickle.dump(y_pred_SVMtop10, a5)   \n",
    "\n",
    "with open('y_test_all_SVM', 'wb') as b1:\n",
    "    pickle.dump(y_test_all, b1)\n",
    "with open('y_test_top1_SVM', 'wb') as b2:\n",
    "    pickle.dump(y_test_top1, b2)\n",
    "with open('y_test_top3_SVM', 'wb') as b3:\n",
    "    pickle.dump(y_test_top3, b3)\n",
    "with open('y_test_top5_SVM', 'wb') as b4:\n",
    "    pickle.dump(y_test_top5, b4)\n",
    "with open('y_test_top10_SVM', 'wb') as b5:\n",
    "    pickle.dump(y_test_top10, b5)"
   ]
  },
  {
   "cell_type": "code",
   "execution_count": null,
   "metadata": {},
   "outputs": [],
   "source": []
  }
 ],
 "metadata": {
  "kernelspec": {
   "display_name": "Python 3",
   "language": "python",
   "name": "python3"
  },
  "language_info": {
   "codemirror_mode": {
    "name": "ipython",
    "version": 3
   },
   "file_extension": ".py",
   "mimetype": "text/x-python",
   "name": "python",
   "nbconvert_exporter": "python",
   "pygments_lexer": "ipython3",
   "version": "3.6.5"
  },
  "varInspector": {
   "cols": {
    "lenName": 16,
    "lenType": 16,
    "lenVar": 40
   },
   "kernels_config": {
    "python": {
     "delete_cmd_postfix": "",
     "delete_cmd_prefix": "del ",
     "library": "var_list.py",
     "varRefreshCmd": "print(var_dic_list())"
    },
    "r": {
     "delete_cmd_postfix": ") ",
     "delete_cmd_prefix": "rm(",
     "library": "var_list.r",
     "varRefreshCmd": "cat(var_dic_list()) "
    }
   },
   "types_to_exclude": [
    "module",
    "function",
    "builtin_function_or_method",
    "instance",
    "_Feature"
   ],
   "window_display": false
  }
 },
 "nbformat": 4,
 "nbformat_minor": 2
}
