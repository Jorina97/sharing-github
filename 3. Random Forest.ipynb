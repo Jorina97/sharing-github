{
 "cells": [
  {
   "cell_type": "markdown",
   "metadata": {},
   "source": [
    "# Define input and output data"
   ]
  },
  {
   "cell_type": "code",
   "execution_count": 1,
   "metadata": {
    "ExecuteTime": {
     "end_time": "2019-11-23T10:52:29.425503Z",
     "start_time": "2019-11-23T10:52:15.220394Z"
    }
   },
   "outputs": [],
   "source": [
    "import numpy\n",
    "import pandas as pd\n",
    "import pickle\n",
    "  \n",
    "with open('y_train_all', 'rb') as a1:\n",
    "    y_train_all = pickle.load(a1)\n",
    "with open('y_train_top1', 'rb') as a2:\n",
    "    y_train_top1 = pickle.load(a2)\n",
    "with open('y_train_top3', 'rb') as a3:\n",
    "    y_train_top3 = pickle.load(a3)\n",
    "with open('y_train_top5', 'rb') as a4:\n",
    "    y_train_top5 = pickle.load(a4)\n",
    "with open('y_train_top10', 'rb') as a5:\n",
    "    y_train_top10 = pickle.load(a5)\n",
    "\n",
    "with open('y_test_all', 'rb') as b1:\n",
    "    y_test_all = pickle.load(b1)\n",
    "with open('y_test_top1', 'rb') as b2:\n",
    "    y_test_top1 = pickle.load(b2)\n",
    "with open('y_test_top3', 'rb') as b3:\n",
    "    y_test_top3 = pickle.load(b3)\n",
    "with open('y_test_top5', 'rb') as b4:\n",
    "    y_test_top5 = pickle.load(b4)\n",
    "with open('y_test_top10', 'rb') as b5:\n",
    "    y_test_top10 = pickle.load(b5)\n",
    "    \n",
    "with open('X_train', 'rb') as c1:\n",
    "    X_train = pickle.load(c1)\n",
    "with open('X_test', 'rb') as c2:\n",
    "    X_test = pickle.load(c2)"
   ]
  },
  {
   "cell_type": "markdown",
   "metadata": {},
   "source": [
    "# Random Forest (RF)"
   ]
  },
  {
   "cell_type": "markdown",
   "metadata": {},
   "source": [
    "## n_estimators = 10"
   ]
  },
  {
   "cell_type": "code",
   "execution_count": 2,
   "metadata": {
    "ExecuteTime": {
     "end_time": "2019-11-23T11:15:52.229984Z",
     "start_time": "2019-11-23T10:54:02.633350Z"
    }
   },
   "outputs": [
    {
     "name": "stdout",
     "output_type": "stream",
     "text": [
      "accuracy Random Forest all categories = 0.4037285719644398\n",
      "accuracy Random Forest top 1 = 0.6130012378558836\n",
      "accuracy Random Forest top 3 = 0.4773247308601223\n",
      "accuracy Random Forest top 5 = 0.44469660027257835\n",
      "accuracy Random Forest top 10 = 0.4119246783450242\n"
     ]
    }
   ],
   "source": [
    "from sklearn.ensemble import RandomForestClassifier\n",
    "rf = RandomForestClassifier(n_estimators = 10, random_state = 42)\n",
    "\n",
    "# All categories\n",
    "y_pred_RFall = rf.fit(X_train, y_train_all).predict(X_test)\n",
    "print(\"accuracy Random Forest all categories = {}\".format(rf.score(X_test, y_test_all)))\n",
    "\n",
    "# Top 1\n",
    "y_pred_RFtop1 = rf.fit(X_train, y_train_top1).predict(X_test)\n",
    "print(\"accuracy Random Forest top 1 = {}\".format(rf.score(X_test, y_test_top1)))\n",
    "\n",
    "# Top 3\n",
    "y_pred_RFtop3 = rf.fit(X_train, y_train_top3).predict(X_test)\n",
    "print(\"accuracy Random Forest top 3 = {}\".format(rf.score(X_test, y_test_top3)))\n",
    "\n",
    "# Top 5\n",
    "y_pred_RFtop5 = rf.fit(X_train, y_train_top5).predict(X_test)\n",
    "print(\"accuracy Random Forest top 5 = {}\".format(rf.score(X_test, y_test_top5)))\n",
    "\n",
    "# Top 10\n",
    "y_pred_RFtop10 = rf.fit(X_train, y_train_top10).predict(X_test)\n",
    "print(\"accuracy Random Forest top 10 = {}\".format(rf.score(X_test, y_test_top10)))"
   ]
  },
  {
   "cell_type": "markdown",
   "metadata": {},
   "source": [
    "## n_estimators = 50"
   ]
  },
  {
   "cell_type": "code",
   "execution_count": null,
   "metadata": {
    "ExecuteTime": {
     "end_time": "2019-11-16T16:54:33.056743Z",
     "start_time": "2019-11-16T15:40:31.597982Z"
    }
   },
   "outputs": [],
   "source": [
    "from sklearn.ensemble import RandomForestClassifier\n",
    "rf = RandomForestClassifier(n_estimators = 50, random_state = 42)\n",
    "\n",
    "# All categories\n",
    "y_pred_RFall = rf.fit(X_train, y_train_all).predict(X_test)\n",
    "print(\"accuracy Random Forest all categories = {}\".format(rf.score(X_test, y_test_all)))\n",
    "\n",
    "# Top 1\n",
    "y_pred_RFtop1 = rf.fit(X_train, y_train_top1).predict(X_test)\n",
    "print(\"accuracy Random Forest top 1 = {}\".format(rf.score(X_test, y_test_top1)))\n",
    "\n",
    "# Top 3\n",
    "y_pred_RFtop3 = rf.fit(X_train, y_train_top3).predict(X_test)\n",
    "print(\"accuracy Random Forest top 3 = {}\".format(rf.score(X_test, y_test_top3)))\n",
    "\n",
    "# Top 5\n",
    "y_pred_RFtop5 = rf.fit(X_train, y_train_top5).predict(X_test)\n",
    "print(\"accuracy Random Forest top 5 = {}\".format(rf.score(X_test, y_test_top5)))\n",
    "\n",
    "# Top 10\n",
    "y_pred_RFtop10 = rf.fit(X_train, y_train_top10).predict(X_test)\n",
    "print(\"accuracy Random Forest top 10 = {}\".format(rf.score(X_test, y_test_top10)))"
   ]
  },
  {
   "cell_type": "markdown",
   "metadata": {},
   "source": [
    "## criterion = 'entropy', instead of default 'gini'"
   ]
  },
  {
   "cell_type": "code",
   "execution_count": null,
   "metadata": {
    "ExecuteTime": {
     "end_time": "2019-11-16T18:02:26.379546Z",
     "start_time": "2019-11-16T17:35:52.887506Z"
    }
   },
   "outputs": [],
   "source": [
    "from sklearn.ensemble import RandomForestClassifier\n",
    "rf = RandomForestClassifier(n_estimators = 10, criterion = 'entropy', random_state = 42)\n",
    "\n",
    "# All categories\n",
    "y_pred_RFall = rf.fit(X_train, y_train_all).predict(X_test)\n",
    "print(\"accuracy Random Forest all categories = {}\".format(rf.score(X_test, y_test_all)))\n",
    "\n",
    "# Top 1\n",
    "y_pred_RFtop1 = rf.fit(X_train, y_train_top1).predict(X_test)\n",
    "print(\"accuracy Random Forest top 1 = {}\".format(rf.score(X_test, y_test_top1)))\n",
    "\n",
    "# Top 3\n",
    "y_pred_RFtop3 = rf.fit(X_train, y_train_top3).predict(X_test)\n",
    "print(\"accuracy Random Forest top 3 = {}\".format(rf.score(X_test, y_test_top3)))\n",
    "\n",
    "# Top 5\n",
    "y_pred_RFtop5 = rf.fit(X_train, y_train_top5).predict(X_test)\n",
    "print(\"accuracy Random Forest top 5 = {}\".format(rf.score(X_test, y_test_top5)))\n",
    "\n",
    "# Top 10\n",
    "y_pred_RFtop10 = rf.fit(X_train, y_train_top10).predict(X_test)\n",
    "print(\"accuracy Random Forest top 10 = {}\".format(rf.score(X_test, y_test_top10)))"
   ]
  },
  {
   "cell_type": "markdown",
   "metadata": {},
   "source": [
    "## entropy, nr=30"
   ]
  },
  {
   "cell_type": "code",
   "execution_count": 2,
   "metadata": {
    "ExecuteTime": {
     "end_time": "2019-11-19T09:52:48.535249Z",
     "start_time": "2019-11-19T08:43:16.228362Z"
    }
   },
   "outputs": [
    {
     "name": "stdout",
     "output_type": "stream",
     "text": [
      "accuracy Random Forest all categories = 0.3990147167310602\n",
      "accuracy Random Forest top 1 = 0.6153644172699652\n",
      "accuracy Random Forest top 3 = 0.4739112494842267\n",
      "accuracy Random Forest top 5 = 0.44196456481238355\n",
      "accuracy Random Forest top 10 = 0.4080923265438814\n"
     ]
    }
   ],
   "source": [
    "from sklearn.ensemble import RandomForestClassifier\n",
    "rf = RandomForestClassifier(n_estimators = 30, criterion = 'entropy', random_state = 42)\n",
    "\n",
    "# All categories\n",
    "y_pred_RFall = rf.fit(X_train, y_train_all).predict(X_test)\n",
    "print(\"accuracy Random Forest all categories = {}\".format(rf.score(X_test, y_test_all)))\n",
    "\n",
    "# Top 1\n",
    "y_pred_RFtop1 = rf.fit(X_train, y_train_top1).predict(X_test)\n",
    "print(\"accuracy Random Forest top 1 = {}\".format(rf.score(X_test, y_test_top1)))\n",
    "\n",
    "# Top 3\n",
    "y_pred_RFtop3 = rf.fit(X_train, y_train_top3).predict(X_test)\n",
    "print(\"accuracy Random Forest top 3 = {}\".format(rf.score(X_test, y_test_top3)))\n",
    "\n",
    "# Top 5\n",
    "y_pred_RFtop5 = rf.fit(X_train, y_train_top5).predict(X_test)\n",
    "print(\"accuracy Random Forest top 5 = {}\".format(rf.score(X_test, y_test_top5)))\n",
    "\n",
    "# Top 10\n",
    "y_pred_RFtop10 = rf.fit(X_train, y_train_top10).predict(X_test)\n",
    "print(\"accuracy Random Forest top 10 = {}\".format(rf.score(X_test, y_test_top10)))"
   ]
  },
  {
   "cell_type": "code",
   "execution_count": null,
   "metadata": {},
   "outputs": [],
   "source": []
  }
 ],
 "metadata": {
  "kernelspec": {
   "display_name": "Python 3",
   "language": "python",
   "name": "python3"
  },
  "language_info": {
   "codemirror_mode": {
    "name": "ipython",
    "version": 3
   },
   "file_extension": ".py",
   "mimetype": "text/x-python",
   "name": "python",
   "nbconvert_exporter": "python",
   "pygments_lexer": "ipython3",
   "version": "3.6.5"
  },
  "varInspector": {
   "cols": {
    "lenName": 16,
    "lenType": 16,
    "lenVar": 40
   },
   "kernels_config": {
    "python": {
     "delete_cmd_postfix": "",
     "delete_cmd_prefix": "del ",
     "library": "var_list.py",
     "varRefreshCmd": "print(var_dic_list())"
    },
    "r": {
     "delete_cmd_postfix": ") ",
     "delete_cmd_prefix": "rm(",
     "library": "var_list.r",
     "varRefreshCmd": "cat(var_dic_list()) "
    }
   },
   "types_to_exclude": [
    "module",
    "function",
    "builtin_function_or_method",
    "instance",
    "_Feature"
   ],
   "window_display": false
  }
 },
 "nbformat": 4,
 "nbformat_minor": 2
}
